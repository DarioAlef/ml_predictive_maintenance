{
  "cells": [
    {
      "cell_type": "markdown",
      "id": "7c38b869",
      "metadata": {
        "id": "7c38b869"
      },
      "source": [
        "# Projeto: Seleção e Otimização de Modelos para Manutenção Preditiva de Máquinas\n",
        "\n",
        "### Equipe:\n",
        "- Bruno Da Costa Prianti\n",
        "- Daniel Modesto De Souza\n",
        "- Dário Alef Barros Lima\n",
        "- Karen Letícia Santana Da Silva\n",
        "- Willian Do Nascimento Severiano\n",
        "\n",
        "### Contexto do Projeto\n",
        "\n",
        "A **manutenção preditiva** é um pilar da Indústria 4.0, permitindo a antecipação de falhas em equipamentos para reduzir custos e aumentar a eficiência. A aplicação de **Machine Learning (ML)** neste cenário possibilita a criação de modelos capazes de prever falhas com base em dados de telemetria, transformando a manutenção reativa em uma estratégia proativa.\n",
        "\n",
        "Este projeto documenta o processo sistemático de desenvolvimento de uma solução para prever falhas em máquinas, partindo de um modelo **baseline** (Regressão Logística) e evoluindo para algoritmos mais avançados, como **ensembles** (Random Forest, AdaBoost) e **meta-modelos** (Voting Classifier). O objetivo é encontrar o equilíbrio ideal entre performance preditiva e complexidade do modelo.\n",
        "\n",
        "### Sobre o Dataset\n",
        "- **Origem**: Sintético, gerado com base em um modelo realista de processos de fresagem.\n",
        "- **Tamanho**: 10.000 registros e 14 variáveis.\n",
        "- **Referência**: S. Matzka, *Explainable Artificial Intelligence for Predictive Maintenance Applications*, AI4I 2020.\n",
        "\n",
        "### Variáveis Principais\n",
        "- **Variável Alvo (Target)**: `Machine Failure` (0 para \"Sem Falha\", 1 para \"Falha\").\n",
        "- **Principais Preditores (Features)**:\n",
        "    - `UID`: Identificador único da amostra.\n",
        "    - `Product ID`: Código do produto.\n",
        "    - `Type`: Categoria do produto (L, M, H = baixa, média, alta qualidade).\n",
        "    - `Air Temperature [K]`: Temperatura do ar no ambiente (em Kelvin).\n",
        "    - `Process Temperature [K]`: Temperatura do processo de usinagem (em Kelvin).\n",
        "    - `Rotational Speed [rpm]`: Velocidade de rotação da ferramenta (em rotações por minuto).\n",
        "    - `Torque [Nm]`: Torque aplicado pela ferramenta (em Newton-metros).\n",
        "    - `Tool Wear [min]`: Tempo de desgaste da ferramenta (em minutos).\n",
        "\n",
        "### Modos de Falha (Informativo)\n",
        "> O dataset também contém variáveis que indicam o tipo específico da falha, embora não sejam o alvo principal da nossa previsão binária.\n",
        "- **TWF**: Falha por Desgaste da Ferramenta (*Tool Wear Failure*).\n",
        "- **HDF**: Falha por Dissipação de Calor (*Heat Dissipation Failure*).\n",
        "- **PWF**: Falha por Perda de Potência (*Power Failure*).\n",
        "- **OSF**: Falha por Sobrecarga (*Overstrain Failure*).\n",
        "- **RNF**: Falha Aleatória (*Random Failure*).\n",
        "\n",
        "### Objetivo deste Milestone (Milestone 5)\n",
        "\n",
        "Este notebook cumpre os requisitos do quinto milestone do projeto. As etapas executadas aqui são:\n",
        "1.  **Treinamento de Modelos Avançados**: Implementação de múltiplos algoritmos que superam o baseline, utilizando técnicas de **ensemble** como `Random Forest`, `AdaBoost`, `Gradient Boosting` e `VotingClassifier`.\n",
        "2.  **Comparação de Desempenho**: Geração de uma **tabela comparativa** completa, avaliando todos os modelos com base nas métricas de F1-Score, Precisão e Recall.\n",
        "3.  **Documentação e Justificativa**: Utilização de células Markdown para explicar cada linha de código, as técnicas empregadas e para **interpretar os resultados** de forma crítica.\n",
        "4.  **Seleção do Modelo Final**: Análise da tabela de resultados para justificar a escolha do modelo campeão, considerando não apenas a performance (`Test F1-Score`), mas também o **custo-benefício** (`Complex Weight`).\n"
      ]
    },
    {
      "cell_type": "markdown",
      "id": "XGhnt6uUsZth",
      "metadata": {
        "id": "XGhnt6uUsZth"
      },
      "source": [
        "# 0.versionamento de bibliotecas"
      ]
    },
    {
      "cell_type": "code",
      "execution_count": 20,
      "id": "OoIsdJ88rMDL",
      "metadata": {
        "id": "OoIsdJ88rMDL"
      },
      "outputs": [],
      "source": [
        "# utilizamos o google colab para desenvolver o codigo do trabalho,\n",
        "# intrução para rodar o notebook:\n",
        "# desconmentar os pip install abaixo e rodar as celulas abaixo dessa celula\n",
        "\n",
        "# !pip install matplotlib==3.10.6\n",
        "# !pip install pandas==2.3.2\n",
        "# !pip install scikit-learn==1.7.1\n",
        "# !pip install optuna==4.5.0"
      ]
    },
    {
      "cell_type": "markdown",
      "id": "72eb5822",
      "metadata": {
        "id": "72eb5822"
      },
      "source": [
        "# 1.import das bibliotecas"
      ]
    },
    {
      "cell_type": "code",
      "execution_count": 21,
      "id": "f8940ecb",
      "metadata": {
        "id": "f8940ecb"
      },
      "outputs": [],
      "source": [
        "import numpy as np\n",
        "import pandas as pd\n",
        "\n",
        "import seaborn as sns\n",
        "import matplotlib.pyplot as plt\n",
        "\n",
        "from pathlib import Path\n",
        "import tarfile\n",
        "import urllib.request\n",
        "\n",
        "from sklearn.model_selection import cross_val_score, StratifiedKFold\n",
        "from sklearn.metrics import make_scorer, f1_score, precision_score, recall_score\n",
        "\n",
        "# metodos proprios pra facilitar algumas etapas do trabalho\n",
        "def precision_recall_f1(y_true, y_probs, threshold=0.5):\n",
        "    y_pred = (y_probs >= threshold).astype(int)\n",
        "\n",
        "    precision = precision_score(y_true, y_pred, pos_label=1, zero_division=0)\n",
        "    recall = recall_score(y_true, y_pred, pos_label=1, zero_division=0)\n",
        "    f1 = f1_score(y_true, y_pred, pos_label=1, zero_division=0)\n",
        "\n",
        "    return {\n",
        "        \"precision\": round(precision,5),\n",
        "        \"recall\": round(recall, 5),\n",
        "        \"f1\": round(f1, 5),\n",
        "    }\n",
        "\n",
        "def cv_metrics_precision_recall_f1(model, X, y, n_splits=5, random_state=42):\n",
        "    skf = StratifiedKFold(n_splits=n_splits, shuffle=True, random_state=random_state)\n",
        "\n",
        "    f1_scorer = make_scorer(f1_score, pos_label=1)\n",
        "    precision_scorer = make_scorer(precision_score, pos_label=1)\n",
        "    recall_scorer = make_scorer(recall_score, pos_label=1)\n",
        "\n",
        "    scores_f1 = cross_val_score(model, X, y.values.ravel(), cv=skf, scoring=f1_scorer)\n",
        "    scores_precision = cross_val_score(model, X, y.values.ravel(), cv=skf, scoring=precision_scorer)\n",
        "    scores_recall = cross_val_score(model, X, y.values.ravel(), cv=skf, scoring=recall_scorer)\n",
        "\n",
        "    return {\n",
        "        'precision': float(round(scores_precision.mean(), 5)),\n",
        "        'recall': float(round(scores_recall.mean(), 5)),\n",
        "        'f1': float(round(scores_f1.mean(), 5))\n",
        "    }\n",
        "\n",
        "class ModelingExperiment:\n",
        "    def __init__(self):\n",
        "        self.records = []\n",
        "\n",
        "    def save(self, name, model=None, metrics=None, complex_weight=None):\n",
        "        print(\"model saved ...\", model)\n",
        "        self.records.append({\n",
        "            \"Model\": name,\n",
        "            \"Model Obj\": model,\n",
        "            \"Complex Weight\": complex_weight,\n",
        "            \"Model Params\": str(model) if model else None,\n",
        "            \"Train Precision\": metrics.get(\"train\", {}).get(\"precision\") if metrics else None,\n",
        "            \"Train Recall\": metrics.get(\"train\", {}).get(\"recall\") if metrics else None,\n",
        "            \"Train F1\": metrics.get(\"train\", {}).get(\"f1\") if metrics else None,\n",
        "            \"Validation Precision\": metrics.get(\"train\", {}).get(\"precision\") if metrics else None,\n",
        "            \"Validation Recall\": metrics.get(\"train\", {}).get(\"recall\") if metrics else None,\n",
        "            \"Validation F1\": metrics.get(\"train\", {}).get(\"f1\") if metrics else None,\n",
        "            \"Test Precision\": metrics.get(\"test\", {}).get(\"precision\") if metrics else None,\n",
        "            \"Test Recall\": metrics.get(\"test\", {}).get(\"recall\") if metrics else None,\n",
        "            \"Test F1\": metrics.get(\"test\", {}).get(\"f1\") if metrics else None\n",
        "        })\n",
        "\n",
        "    def summary(self, include_obj=False):\n",
        "        df = pd.DataFrame(self.records)\n",
        "        if not include_obj and \"Model Obj\" in df.columns:\n",
        "            df = df.drop(columns=[\"Model Obj\"])\n",
        "        return df"
      ]
    },
    {
      "cell_type": "markdown",
      "id": "PlSmPbCfvN1h",
      "metadata": {
        "id": "PlSmPbCfvN1h"
      },
      "source": [
        "**Legenda:**  \n",
        "Nesta célula realizamos três etapas principais:\n",
        "\n",
        "1. **Importação de bibliotecas:**  \n",
        "   - `numpy`, `pandas`: manipulação de arrays e tabelas.  \n",
        "   - `seaborn`, `matplotlib.pyplot`: criação de gráficos e visualizações.  \n",
        "   - `pathlib.Path`, `tarfile`, `urllib.request`: operações com diretórios, arquivos compactados e downloads.  \n",
        "   - `sklearn.model_selection` e `sklearn.metrics`: ferramentas para validação cruzada e cálculo de métricas de classificação.  \n",
        "\n",
        "2. **Definição de funções auxiliares:**  \n",
        "   - `precision_recall_f1`: recebe os valores verdadeiros e as probabilidades previstas, aplica um limiar de decisão (`threshold`) e retorna **precisão, recall e F1-score** em formato de dicionário.  \n",
        "   - `cv_metrics_precision_recall_f1`: aplica **validação cruzada estratificada** em um modelo, calculando médias de precisão, recall e F1-score ao longo das divisões dos dados.  \n",
        "\n",
        "3. **Criação da classe `ModelingExperiment`:**  \n",
        "   - Armazena informações sobre cada modelo treinado, incluindo nome, parâmetros e métricas em treino, validação e teste.  \n",
        "   - O método `save` adiciona um registro na lista interna `records`.  \n",
        "   - O método `summary` organiza esses registros em um **DataFrame**, facilitando a comparação entre os modelos testados.  \n",
        "\n",
        " Em resumo, esta célula prepara o ambiente para os experimentos, fornecendo **ferramentas de avaliação de métricas** e uma **estrutura para registrar e comparar modelos**.\n"
      ]
    },
    {
      "cell_type": "markdown",
      "id": "0e06e051",
      "metadata": {
        "id": "0e06e051"
      },
      "source": [
        "# 2.leitura da base de dados tratada milestone 3:"
      ]
    },
    {
      "cell_type": "code",
      "execution_count": 22,
      "id": "f6ba1055",
      "metadata": {
        "id": "f6ba1055"
      },
      "outputs": [],
      "source": [
        "def load_data():\n",
        "    base_path = Path(\"datasets/industrial\")\n",
        "    base_path.mkdir(parents=True, exist_ok=True)\n",
        "\n",
        "    url_base = \"https://raw.githubusercontent.com/bpriantti/av2_grupo_b_vespertino/main/\"\n",
        "\n",
        "    files = {\n",
        "        \"x_train\": base_path / \"x_train.csv\",\n",
        "        \"x_test\": base_path / \"x_test.csv\",\n",
        "        \"y_train\": base_path / \"y_train.csv\",\n",
        "        \"y_test\": base_path / \"y_test.csv\",\n",
        "    }\n",
        "\n",
        "    for name, path in files.items():\n",
        "        if not path.is_file():\n",
        "            urllib.request.urlretrieve(url_base + f\"{name}.csv\", path)\n",
        "\n",
        "    x_train = pd.read_csv(files[\"x_train\"])\n",
        "    x_test = pd.read_csv(files[\"x_test\"])\n",
        "    y_train = pd.read_csv(files[\"y_train\"])\n",
        "    y_test = pd.read_csv(files[\"y_test\"])\n",
        "\n",
        "    return x_train, x_test, y_train, y_test"
      ]
    },
    {
      "cell_type": "code",
      "execution_count": 23,
      "id": "3dd98258",
      "metadata": {
        "id": "3dd98258"
      },
      "outputs": [],
      "source": [
        "x_train, x_test, y_train, y_test = load_data()"
      ]
    },
    {
      "cell_type": "code",
      "execution_count": 24,
      "id": "09feb834",
      "metadata": {
        "colab": {
          "base_uri": "https://localhost:8080/",
          "height": 859
        },
        "id": "09feb834",
        "outputId": "2b2ee359-e068-4298-a8cd-d4130890c3ad"
      },
      "outputs": [
        {
          "name": "stdout",
          "output_type": "stream",
          "text": [
            "\n",
            "x_train head():\n"
          ]
        },
        {
          "data": {
            "text/html": [
              "<div>\n",
              "<style scoped>\n",
              "    .dataframe tbody tr th:only-of-type {\n",
              "        vertical-align: middle;\n",
              "    }\n",
              "\n",
              "    .dataframe tbody tr th {\n",
              "        vertical-align: top;\n",
              "    }\n",
              "\n",
              "    .dataframe thead th {\n",
              "        text-align: right;\n",
              "    }\n",
              "</style>\n",
              "<table border=\"1\" class=\"dataframe\">\n",
              "  <thead>\n",
              "    <tr style=\"text-align: right;\">\n",
              "      <th></th>\n",
              "      <th>Air temperature [K]</th>\n",
              "      <th>Process temperature [K]</th>\n",
              "      <th>Rotational speed [rpm]</th>\n",
              "      <th>Torque [Nm]</th>\n",
              "      <th>Tool wear [min]</th>\n",
              "      <th>Type_ordinal</th>\n",
              "    </tr>\n",
              "  </thead>\n",
              "  <tbody>\n",
              "    <tr>\n",
              "      <th>0</th>\n",
              "      <td>0.146812</td>\n",
              "      <td>0.194985</td>\n",
              "      <td>3.424127</td>\n",
              "      <td>-2.323904</td>\n",
              "      <td>-1.190591</td>\n",
              "      <td>1.0</td>\n",
              "    </tr>\n",
              "    <tr>\n",
              "      <th>1</th>\n",
              "      <td>-0.302583</td>\n",
              "      <td>-0.681839</td>\n",
              "      <td>1.444367</td>\n",
              "      <td>-1.572974</td>\n",
              "      <td>0.310316</td>\n",
              "      <td>1.0</td>\n",
              "    </tr>\n",
              "    <tr>\n",
              "      <th>2</th>\n",
              "      <td>-0.552246</td>\n",
              "      <td>0.329881</td>\n",
              "      <td>0.559558</td>\n",
              "      <td>-1.082367</td>\n",
              "      <td>1.357824</td>\n",
              "      <td>1.0</td>\n",
              "    </tr>\n",
              "    <tr>\n",
              "      <th>3</th>\n",
              "      <td>-0.801910</td>\n",
              "      <td>-0.681839</td>\n",
              "      <td>0.028673</td>\n",
              "      <td>-0.121176</td>\n",
              "      <td>-0.174352</td>\n",
              "      <td>2.0</td>\n",
              "    </tr>\n",
              "    <tr>\n",
              "      <th>4</th>\n",
              "      <td>1.345196</td>\n",
              "      <td>1.611391</td>\n",
              "      <td>-0.474562</td>\n",
              "      <td>0.729878</td>\n",
              "      <td>-0.721558</td>\n",
              "      <td>1.0</td>\n",
              "    </tr>\n",
              "  </tbody>\n",
              "</table>\n",
              "</div>"
            ],
            "text/plain": [
              "   Air temperature [K]  Process temperature [K]  Rotational speed [rpm]  \\\n",
              "0             0.146812                 0.194985                3.424127   \n",
              "1            -0.302583                -0.681839                1.444367   \n",
              "2            -0.552246                 0.329881                0.559558   \n",
              "3            -0.801910                -0.681839                0.028673   \n",
              "4             1.345196                 1.611391               -0.474562   \n",
              "\n",
              "   Torque [Nm]  Tool wear [min]  Type_ordinal  \n",
              "0    -2.323904        -1.190591           1.0  \n",
              "1    -1.572974         0.310316           1.0  \n",
              "2    -1.082367         1.357824           1.0  \n",
              "3    -0.121176        -0.174352           2.0  \n",
              "4     0.729878        -0.721558           1.0  "
            ]
          },
          "metadata": {},
          "output_type": "display_data"
        },
        {
          "name": "stdout",
          "output_type": "stream",
          "text": [
            "y_train head():\n"
          ]
        },
        {
          "data": {
            "text/html": [
              "<div>\n",
              "<style scoped>\n",
              "    .dataframe tbody tr th:only-of-type {\n",
              "        vertical-align: middle;\n",
              "    }\n",
              "\n",
              "    .dataframe tbody tr th {\n",
              "        vertical-align: top;\n",
              "    }\n",
              "\n",
              "    .dataframe thead th {\n",
              "        text-align: right;\n",
              "    }\n",
              "</style>\n",
              "<table border=\"1\" class=\"dataframe\">\n",
              "  <thead>\n",
              "    <tr style=\"text-align: right;\">\n",
              "      <th></th>\n",
              "      <th>Machine failure</th>\n",
              "    </tr>\n",
              "  </thead>\n",
              "  <tbody>\n",
              "    <tr>\n",
              "      <th>0</th>\n",
              "      <td>0</td>\n",
              "    </tr>\n",
              "    <tr>\n",
              "      <th>1</th>\n",
              "      <td>0</td>\n",
              "    </tr>\n",
              "    <tr>\n",
              "      <th>2</th>\n",
              "      <td>0</td>\n",
              "    </tr>\n",
              "    <tr>\n",
              "      <th>3</th>\n",
              "      <td>0</td>\n",
              "    </tr>\n",
              "    <tr>\n",
              "      <th>4</th>\n",
              "      <td>0</td>\n",
              "    </tr>\n",
              "  </tbody>\n",
              "</table>\n",
              "</div>"
            ],
            "text/plain": [
              "   Machine failure\n",
              "0                0\n",
              "1                0\n",
              "2                0\n",
              "3                0\n",
              "4                0"
            ]
          },
          "metadata": {},
          "output_type": "display_data"
        },
        {
          "name": "stdout",
          "output_type": "stream",
          "text": [
            "x_test head():\n"
          ]
        },
        {
          "data": {
            "text/html": [
              "<div>\n",
              "<style scoped>\n",
              "    .dataframe tbody tr th:only-of-type {\n",
              "        vertical-align: middle;\n",
              "    }\n",
              "\n",
              "    .dataframe tbody tr th {\n",
              "        vertical-align: top;\n",
              "    }\n",
              "\n",
              "    .dataframe thead th {\n",
              "        text-align: right;\n",
              "    }\n",
              "</style>\n",
              "<table border=\"1\" class=\"dataframe\">\n",
              "  <thead>\n",
              "    <tr style=\"text-align: right;\">\n",
              "      <th></th>\n",
              "      <th>Air temperature [K]</th>\n",
              "      <th>Process temperature [K]</th>\n",
              "      <th>Rotational speed [rpm]</th>\n",
              "      <th>Torque [Nm]</th>\n",
              "      <th>Tool wear [min]</th>\n",
              "      <th>Type_ordinal</th>\n",
              "    </tr>\n",
              "  </thead>\n",
              "  <tbody>\n",
              "    <tr>\n",
              "      <th>0</th>\n",
              "      <td>-0.751977</td>\n",
              "      <td>-0.209703</td>\n",
              "      <td>0.072913</td>\n",
              "      <td>-0.601771</td>\n",
              "      <td>1.514169</td>\n",
              "      <td>2.0</td>\n",
              "    </tr>\n",
              "    <tr>\n",
              "      <th>1</th>\n",
              "      <td>-1.401102</td>\n",
              "      <td>-0.951630</td>\n",
              "      <td>-0.811895</td>\n",
              "      <td>0.149159</td>\n",
              "      <td>-0.002373</td>\n",
              "      <td>1.0</td>\n",
              "    </tr>\n",
              "    <tr>\n",
              "      <th>2</th>\n",
              "      <td>0.246677</td>\n",
              "      <td>1.274152</td>\n",
              "      <td>-0.590693</td>\n",
              "      <td>0.309357</td>\n",
              "      <td>-1.440742</td>\n",
              "      <td>1.0</td>\n",
              "    </tr>\n",
              "    <tr>\n",
              "      <th>3</th>\n",
              "      <td>1.644793</td>\n",
              "      <td>1.476496</td>\n",
              "      <td>-0.452442</td>\n",
              "      <td>0.069060</td>\n",
              "      <td>-0.940440</td>\n",
              "      <td>1.0</td>\n",
              "    </tr>\n",
              "    <tr>\n",
              "      <th>4</th>\n",
              "      <td>-0.052919</td>\n",
              "      <td>-0.412047</td>\n",
              "      <td>1.936542</td>\n",
              "      <td>-1.402764</td>\n",
              "      <td>-1.597087</td>\n",
              "      <td>2.0</td>\n",
              "    </tr>\n",
              "  </tbody>\n",
              "</table>\n",
              "</div>"
            ],
            "text/plain": [
              "   Air temperature [K]  Process temperature [K]  Rotational speed [rpm]  \\\n",
              "0            -0.751977                -0.209703                0.072913   \n",
              "1            -1.401102                -0.951630               -0.811895   \n",
              "2             0.246677                 1.274152               -0.590693   \n",
              "3             1.644793                 1.476496               -0.452442   \n",
              "4            -0.052919                -0.412047                1.936542   \n",
              "\n",
              "   Torque [Nm]  Tool wear [min]  Type_ordinal  \n",
              "0    -0.601771         1.514169           2.0  \n",
              "1     0.149159        -0.002373           1.0  \n",
              "2     0.309357        -1.440742           1.0  \n",
              "3     0.069060        -0.940440           1.0  \n",
              "4    -1.402764        -1.597087           2.0  "
            ]
          },
          "metadata": {},
          "output_type": "display_data"
        },
        {
          "name": "stdout",
          "output_type": "stream",
          "text": [
            "y_test head():\n"
          ]
        },
        {
          "data": {
            "text/html": [
              "<div>\n",
              "<style scoped>\n",
              "    .dataframe tbody tr th:only-of-type {\n",
              "        vertical-align: middle;\n",
              "    }\n",
              "\n",
              "    .dataframe tbody tr th {\n",
              "        vertical-align: top;\n",
              "    }\n",
              "\n",
              "    .dataframe thead th {\n",
              "        text-align: right;\n",
              "    }\n",
              "</style>\n",
              "<table border=\"1\" class=\"dataframe\">\n",
              "  <thead>\n",
              "    <tr style=\"text-align: right;\">\n",
              "      <th></th>\n",
              "      <th>Machine failure</th>\n",
              "    </tr>\n",
              "  </thead>\n",
              "  <tbody>\n",
              "    <tr>\n",
              "      <th>0</th>\n",
              "      <td>0</td>\n",
              "    </tr>\n",
              "    <tr>\n",
              "      <th>1</th>\n",
              "      <td>0</td>\n",
              "    </tr>\n",
              "    <tr>\n",
              "      <th>2</th>\n",
              "      <td>0</td>\n",
              "    </tr>\n",
              "    <tr>\n",
              "      <th>3</th>\n",
              "      <td>0</td>\n",
              "    </tr>\n",
              "    <tr>\n",
              "      <th>4</th>\n",
              "      <td>0</td>\n",
              "    </tr>\n",
              "  </tbody>\n",
              "</table>\n",
              "</div>"
            ],
            "text/plain": [
              "   Machine failure\n",
              "0                0\n",
              "1                0\n",
              "2                0\n",
              "3                0\n",
              "4                0"
            ]
          },
          "metadata": {},
          "output_type": "display_data"
        }
      ],
      "source": [
        "print(\"\")\n",
        "print(\"x_train head():\")\n",
        "display(x_train.head())\n",
        "print(\"y_train head():\")\n",
        "display(y_train.head())\n",
        "print(\"x_test head():\")\n",
        "display(x_test.head())\n",
        "print(\"y_test head():\")\n",
        "display(y_test.head())"
      ]
    },
    {
      "cell_type": "markdown",
      "id": "e521508d",
      "metadata": {
        "id": "e521508d"
      },
      "source": [
        "**Legenda:**  \n",
        "\n",
        "#### Função `load_data`\n",
        "Esta célula define a função `load_data`, responsável por **carregar e organizar os dados do projeto**:\n",
        "Aqui a função load_data é chamada e suas saídas são atribuídas às variáveis de treino e teste.\n",
        "\n",
        "    1.`x_train`, `x_test`: atributos (features) normalizados já preparados.\n",
        "\n",
        "    2. `y_train`, `y_test`.: rótulos (targets) binários indicando falha ou não da máquina.\n",
        "\n",
        "Essa função inicializa efetivamente os dados que serão usados em todo o restante do notebook.\n",
        "\n",
        "---\n",
        "\n",
        "#### Carregamento dos dados\n",
        "```python\n",
        "x_train, x_test, y_train, y_test = load_data()\n"
      ]
    },
    {
      "cell_type": "markdown",
      "id": "c3fd2663",
      "metadata": {
        "id": "c3fd2663"
      },
      "source": [
        "# 3.0 Treinamento dos modelos:"
      ]
    },
    {
      "cell_type": "markdown",
      "id": "3a6a7cdb",
      "metadata": {
        "id": "3a6a7cdb"
      },
      "source": [
        ">Nesta etapa, vamos explorar diferentes algoritmos de **Machine Learning** para prever falhas em máquinas de usinagem.  \n",
        "O foco é avaliar o desempenho na **classe 1 (falha)** utilizando métricas como **Precision, Recall e F1-Score**.\n",
        "\n",
        "Modelos a serem testados:\n",
        "1. **Logistic Regression** `(Baseline)`\n",
        "2. **Support Vector Machine**  \n",
        "3. **Decision Tree**  \n",
        "4. **Random Forest**  \n",
        "5. **AdaBoost**  \n",
        "6. **Gradient Boosting**    "
      ]
    },
    {
      "cell_type": "markdown",
      "id": "4-QlhGAK22D1",
      "metadata": {
        "id": "4-QlhGAK22D1"
      },
      "source": [
        "\n",
        "#### Atribuição de Peso de Complexidade para Cada Modelo:\n",
        "\n",
        "1.  **Logistic Regression (peso 1):**\n",
        "    * Modelo mais simples, linear, ótimo como baseline.\n",
        "\n",
        "2.  **Decision Tree (peso 2):**\n",
        "    * Já captura relações não lineares, mas isoladamente tende a *overfitting* (sobresjuste).\n",
        "\n",
        "3.  **Support Vector Machine (peso 3):**\n",
        "    * Bom em problemas com margens de separação claras, mas exige ajuste fino (*tuning*) do kernel e não escala bem em grandes volumes de dados.\n",
        "\n",
        "4.  **Random Forest (peso 4):**\n",
        "    * Mais robusto que uma única árvore de decisão, pois é um conjunto (*ensemble*) delas. Reduz o *overfitting* e generaliza melhor.\n",
        "\n",
        "5.  **AdaBoost (peso 5):**\n",
        "    * Constrói um *ensemble* de forma sequencial, onde cada novo modelo foca em corrigir os erros do modelo anterior. É eficaz em dados com pouco ruído, mas pode ser sensível a *outliers* (valores atípicos).\n",
        "\n",
        "6.  **Gradient Boosting (peso 6):**\n",
        "    * Semelhante ao AdaBoost, também constrói modelos sequencialmente. No entanto, é mais flexível e poderoso, pois otimiza os erros residuais a cada passo usando um método de gradiente. Geralmente, apresenta um desempenho superior aos anteriores.\n",
        "\n",
        "7.  **Voting Classifier (peso 7):**\n",
        "    * É um meta-modelo que combina as previsões de vários modelos diferentes (por exemplo, Regressão Logística, SVM e Random Forest). A previsão final é decidida pela \"votação\" da maioria dos modelos (*hard voting*) ou pela média das probabilidades previstas por eles (*soft voting*). Sua principal vantagem é aumentar a robustez e a precisão ao agregar as \"opiniões\" de diferentes algoritmos, compensando as fraquezas individuais de cada um."
      ]
    },
    {
      "cell_type": "code",
      "execution_count": 25,
      "id": "2b692120",
      "metadata": {
        "id": "2b692120"
      },
      "outputs": [],
      "source": [
        "experimento = ModelingExperiment()"
      ]
    },
    {
      "cell_type": "markdown",
      "id": "f44d5cf1",
      "metadata": {
        "id": "f44d5cf1"
      },
      "source": [
        "## 3.1 logistic regression:"
      ]
    },
    {
      "cell_type": "code",
      "execution_count": null,
      "id": "5838b0b4",
      "metadata": {
        "colab": {
          "base_uri": "https://localhost:8080/",
          "height": 69
        },
        "id": "5838b0b4",
        "outputId": "420ff2fe-5df9-4a7e-b514-bce16cdff967"
      },
      "outputs": [
        {
          "data": {
            "text/plain": [
              "{'train': {'precision': 0.58042, 'recall': 0.31439, 'f1': 0.40786},\n",
              " 'val': {'precision': 0.56741, 'recall': 0.3029, 'f1': 0.39385},\n",
              " 'test': {'precision': 0.69444, 'recall': 0.37879, 'f1': 0.4902}}"
            ]
          },
          "metadata": {},
          "output_type": "display_data"
        }
      ],
      "source": [
        "# from sklearn.linear_model import LogisticRegression\n",
        "\n",
        "# log_reg = LogisticRegression(class_weight={0:1, 1:2}, random_state=42)\n",
        "# log_reg.fit(x_train, y_train.values.ravel())\n",
        "\n",
        "# y_train_probs = log_reg.predict_proba(x_train)[:, 1]\n",
        "# y_test_probs = log_reg.predict_proba(x_test)[:, 1]\n",
        "\n",
        "# metrics_train = precision_recall_f1(y_train, y_train_probs, threshold=0.5)\n",
        "# metrics_val = cv_metrics_precision_recall_f1(log_reg, x_train, y_train, n_splits=5, random_state=42)\n",
        "# metrics_test = precision_recall_f1(y_test, y_test_probs, threshold=0.5)\n",
        "\n",
        "# metrics = {\"train\": metrics_train, \"val\": metrics_val,\"test\": metrics_test}\n",
        "# display(metrics)"
      ]
    },
    {
      "cell_type": "markdown",
      "id": "821fc0b7",
      "metadata": {
        "id": "821fc0b7"
      },
      "source": [
        "**Legenda:**\n",
        "\n",
        "Nesta célula estamos treinando um modelo de **Regressão Logística** usando a biblioteca *scikit-learn*. Algumas observações importantes:\n",
        "\n",
        "### Configuração do modelo\n",
        "- `class_weight={0:1, 1:2}`: estamos dizendo ao modelo para dar o **dobro de peso à classe 1** em relação à classe 0.  \n",
        "  Isso é útil quando há **desbalanceamento de classes**, pois força o algoritmo a prestar mais atenção à classe minoritária.  \n",
        "- `random_state=42`: garante **reprodutibilidade**, ou seja, os mesmos resultados em execuções diferentes.  \n",
        "\n",
        "---\n",
        "\n",
        "### Treinamento (`fit`)\n",
        "- O modelo aprende padrões nos dados de treino (`x_train`, `y_train`).  \n",
        "\n",
        "---\n",
        "\n",
        "### Probabilidades previstas (`predict_proba`)\n",
        "- Calculamos a probabilidade de cada instância pertencer à classe **1**, tanto no treino quanto no teste.  \n",
        "- Depois, avaliamos o modelo usando a função `evaluate_model`, com um **limiar (threshold) de 0.5**.  \n",
        "\n",
        "---\n",
        "\n",
        "### Métricas obtidas\n",
        "**Treino:**\n",
        "- **Precisão ≈ 0.58** → quando o modelo prevê a classe positiva, ele acerta em ~58% dos casos.  \n",
        "- **Recall ≈ 0.31** → o modelo consegue recuperar apenas ~31% dos positivos reais (**sensibilidade baixa**).  \n",
        "- **F1-score ≈ 0.40** → equilíbrio baixo, indicando que o modelo não está performando tão bem no treino.  \n",
        "\n",
        "**Teste:**\n",
        "- **Precisão ≈ 0.69** → acerta mais quando prevê positivo (~69%).  \n",
        "- **Recall ≈ 0.37** → ainda captura poucos positivos (~37%).  \n",
        "- **F1-score ≈ 0.49** → melhora em relação ao treino, mas ainda mostra que o modelo não está capturando bem os positivos.  \n",
        "\n",
        "---\n",
        "\n",
        "### Interpretação geral\n",
        "- O modelo tem uma **precisão razoável**, mas um **recall baixo**.  \n",
        "- Isso significa que ele **erra ao deixar escapar muitos casos positivos** (alta taxa de **falsos negativos**).  \n",
        "- Como consequência, o **F1-score** fica moderado (~0.49), sugerindo que o modelo ainda **não está bem ajustado** e pode precisar de:  \n",
        "  - Ajuste do **limiar de decisão**.  \n",
        "  - Melhor balanceamento de classes.  \n",
        "  - Testar outros modelos ou adicionar novas features.  \n"
      ]
    },
    {
      "cell_type": "code",
      "execution_count": null,
      "id": "c2044f60",
      "metadata": {
        "colab": {
          "base_uri": "https://localhost:8080/"
        },
        "id": "c2044f60",
        "outputId": "e703743a-0f70-4490-c98d-fec9fd2e28a2"
      },
      "outputs": [
        {
          "name": "stdout",
          "output_type": "stream",
          "text": [
            "model saved ... LogisticRegression(class_weight={0: 1, 1: 2}, random_state=42)\n"
          ]
        }
      ],
      "source": [
        "# experimento.save(name=\"Logistic Regression\", model=log_reg, metrics=metrics, complex_weight=1)"
      ]
    },
    {
      "cell_type": "markdown",
      "id": "9d5302c4",
      "metadata": {
        "id": "9d5302c4"
      },
      "source": [
        "**Legenda:**\n",
        "\n",
        "> Nesta célula, o código utiliza o método `save` do objeto `experimento` para armazenar o modelo treinado e suas informações principais:\n",
        ">\n",
        "> -   `name=\"Logistic Regression\"` → Identifica o modelo salvo com o nome \"Logistic Regression\".\n",
        "> -   `model=log_reg` → Refere-se ao modelo de Regressão Logística que já foi treinado e agora será registrado.\n",
        "> -   `metrics=metrics` → Inclui as métricas de avaliação calculadas (ex.: acurácia, F1-score, recall etc.) junto ao modelo.\n",
        "> -   `complex_weight=1` → Define um peso de complexidade para o modelo, usado em comparações ou análises de custo/benefício.\n",
        "\n",
        "**Em resumo**, essa linha registra o modelo e suas métricas dentro do sistema de experimentos, permitindo organização e reprodutibilidade."
      ]
    },
    {
      "cell_type": "markdown",
      "id": "af68a4a0",
      "metadata": {
        "id": "af68a4a0"
      },
      "source": [
        "## 3.2 SVM classifier:"
      ]
    },
    {
      "cell_type": "markdown",
      "id": "c6a6e616",
      "metadata": {
        "id": "c6a6e616"
      },
      "source": [
        "### 3.2.1 fine tunning parameter config SVM:"
      ]
    },
    {
      "cell_type": "code",
      "execution_count": 28,
      "id": "36ed0c32",
      "metadata": {
        "id": "36ed0c32"
      },
      "outputs": [],
      "source": [
        "# # comentamos pois ja encontramos os parametros - tempo de execucao aproximadamente: 41 minutos\n",
        "\n",
        "# from sklearn.model_selection import cross_val_score, StratifiedKFold\n",
        "# from sklearn.metrics import make_scorer, f1_score\n",
        "# from sklearn.svm import SVC\n",
        "# import optuna\n",
        "\n",
        "# skf = StratifiedKFold(n_splits=5, shuffle=True, random_state=42)\n",
        "# f1_scorer = make_scorer(f1_score, pos_label=1)\n",
        "\n",
        "# def objective(trial):\n",
        "#     C = trial.suggest_float(\"C\", 0.1, 100, log=True)\n",
        "#     weight_1 = trial.suggest_int(\"weight_1\", 1, 10)\n",
        "\n",
        "#     svm_model = SVC(\n",
        "#         C=C,\n",
        "#         class_weight={0:1, 1:weight_1},\n",
        "#         probability=True,\n",
        "#         random_state=42,\n",
        "#     )\n",
        "\n",
        "#     scores = cross_val_score(svm_model, x_train, y_train.values.ravel(), cv=skf, scoring=f1_scorer)\n",
        "#     return scores.mean()\n",
        "\n",
        "# study = optuna.create_study(direction=\"maximize\")\n",
        "# study.optimize(objective, n_trials=1000)\n",
        "# print(\"Melhores parâmetros:\", study.best_trial.params)\n",
        "# print(\"Melhor F1 médio na validação:\", study.best_trial.value)"
      ]
    },
    {
      "cell_type": "markdown",
      "id": "dd94ac79",
      "metadata": {
        "id": "dd94ac79"
      },
      "source": [
        "**Legenda:**\n",
        "\n",
        "Nesta célula foi realizada a **otimização de hiperparâmetros da SVM** utilizando a biblioteca **Optuna**, com o objetivo de encontrar uma configuração de parâmetros que maximize o desempenho do modelo em termos de **F1-score**.  \n",
        "\n",
        "---\n",
        "\n",
        "### Parâmetros otimizados\n",
        "- **`C` (regularização):** controla o equilíbrio entre **margem larga** e **classificação correta dos exemplos de treino**.  \n",
        "  - Valores menores de `C` → permitem maior margem, mas aceitam mais erros no treino (modelo mais simples, com maior viés).  \n",
        "  - Valores maiores de `C` → buscam classificar todos os exemplos corretamente, mesmo reduzindo a margem (modelo mais complexo, com risco de overfitting).  \n",
        "\n",
        "- **`class_weight` (peso das classes):** aqui ajustamos o peso da **classe positiva (1)**.  \n",
        "  - Isso é importante porque, em problemas de **desbalanceamento de classes**, o modelo tende a favorecer a classe majoritária.  \n",
        "  - Ajustando o peso da classe 1, forçamos a SVM a dar **mais atenção às instâncias positivas**, ajudando a melhorar o **recall** e, consequentemente, o **F1-score**.  \n",
        "\n",
        "---\n",
        "\n",
        "### Estratégia de validação\n",
        "- Foi utilizada **validação cruzada estratificada (5 folds)** para garantir que cada divisão tivesse a mesma proporção de classes, evitando viés nos resultados.  \n",
        "- O critério de avaliação foi o **F1-score**, métrica que equilibra precisão e recall, escolhida porque o dataset provavelmente apresenta **desbalanceamento** entre classes.  \n",
        "\n",
        "---\n",
        "\n",
        "### Processo de otimização\n",
        "- A função `objective(trial)` define como cada experimento de treinamento deve ser avaliado, recebendo diferentes combinações de `C` e `weight_1`.  \n",
        "- O Optuna testou até **1000 combinações** desses hiperparâmetros.  \n",
        "- Ao final, o estudo retornou:  \n",
        "  - **Melhores parâmetros encontrados** (valores de `C` e `class_weight`).  \n",
        "  - **Melhor valor médio de F1-score na validação cruzada**.  \n",
        "\n",
        "---\n",
        "\n",
        "### Justificativa\n",
        "Optamos por realizar esta otimização porque a SVM é **sensível à escolha dos hiperparâmetros**, especialmente:  \n",
        "- O valor de `C`, que influencia diretamente a complexidade do modelo.  \n",
        "- O peso das classes, que pode corrigir o impacto do desbalanceamento.  \n",
        "\n",
        "Dessa forma, garantimos que o modelo utilizado nas próximas etapas **não seja apenas uma configuração arbitrária**, mas sim o resultado de um processo sistemático de busca, visando **equilíbrio entre precisão e recall**.\n"
      ]
    },
    {
      "cell_type": "markdown",
      "id": "3efb8552",
      "metadata": {
        "id": "3efb8552"
      },
      "source": [
        "### 3.2.2 fit best parameter config SVM:"
      ]
    },
    {
      "cell_type": "code",
      "execution_count": null,
      "id": "e4ca1575",
      "metadata": {
        "colab": {
          "base_uri": "https://localhost:8080/",
          "height": 69
        },
        "id": "e4ca1575",
        "outputId": "dfd667b0-b3bc-42e2-afbb-d0276950fc2e"
      },
      "outputs": [
        {
          "data": {
            "text/plain": [
              "{'train': {'precision': 0.97525, 'recall': 0.74621, 'f1': 0.84549},\n",
              " 'val': {'precision': 0.82832, 'recall': 0.66676, 'f1': 0.73733},\n",
              " 'test': {'precision': 0.84091, 'recall': 0.56061, 'f1': 0.67273}}"
            ]
          },
          "metadata": {},
          "output_type": "display_data"
        }
      ],
      "source": [
        "# from sklearn.svm import SVC\n",
        "\n",
        "# svm_model = SVC(\n",
        "#         C=99.90622647684818,\n",
        "#         class_weight={0:1, 1:1},\n",
        "#         probability=True,\n",
        "#         random_state=42,\n",
        "#     )\n",
        "\n",
        "\n",
        "# svm_model.fit(x_train, y_train.values.ravel())\n",
        "\n",
        "# y_train_probs = svm_model.predict_proba(x_train)[:, 1]\n",
        "# y_test_probs = svm_model.predict_proba(x_test)[:, 1]\n",
        "\n",
        "# metrics_train = precision_recall_f1(y_train, y_train_probs, threshold=0.5)\n",
        "# metrics_val = cv_metrics_precision_recall_f1(svm_model, x_train, y_train, n_splits=5, random_state=42)\n",
        "# metrics_test = precision_recall_f1(y_test, y_test_probs, threshold=0.5)\n",
        "# metrics = {\"train\": metrics_train, \"val\": metrics_val,\"test\": metrics_test}\n",
        "# display(metrics)"
      ]
    },
    {
      "cell_type": "markdown",
      "id": "d62168d0",
      "metadata": {
        "id": "d62168d0"
      },
      "source": [
        "**Legenda:**\n",
        "\n",
        "Nesta célula estamos treinando um modelo de **SVM (Support Vector Machine)** usando a classe `SVC` da biblioteca *scikit-learn*. Algumas observações importantes:\n",
        "\n",
        "---\n",
        "\n",
        "### Configuração do modelo\n",
        "- `C=99.9062`: parâmetro de **regularização** que controla a margem da SVM.  \n",
        "- `class_weight={0:1, 1:1}`: indica que **não foi aplicado balanceamento de classes** (ambas têm o mesmo peso).  \n",
        "- `probability=True`: habilita a saída de **probabilidades** via `predict_proba`.  \n",
        "- `random_state=42`: garante **reprodutibilidade** dos resultados.  \n",
        "\n",
        "---\n",
        "\n",
        "### Treinamento (`fit`)\n",
        "- O modelo é treinado com os dados de entrada (`x_train`) e os rótulos (`y_train`).  \n",
        "- A SVM busca encontrar um **hiperplano ótimo** que separe as classes no espaço das features.  \n",
        "\n",
        "---\n",
        "\n",
        "### Probabilidades previstas (`predict_proba`)\n",
        "- Após o treinamento, calculamos as **probabilidades da classe positiva (1)** para:  \n",
        "  - **Treino:** `y_train_probs`  \n",
        "  - **Teste:** `y_test_probs`  \n",
        "- Essas probabilidades são avaliadas com um **limiar (threshold) = 0.5**, transformando-as em previsões binárias.  \n",
        "\n",
        "---\n",
        "\n",
        "### Métricas obtidas\n",
        "**Treino:**  \n",
        "- **Precisão ≈ 0.98** → quando o modelo prevê positivo, acerta quase sempre.  \n",
        "- **Recall ≈ 0.75** → captura cerca de 75% dos casos positivos.  \n",
        "- **F1-score ≈ 0.85** → bom equilíbrio entre precisão e recall no treino.  \n",
        "\n",
        "**Validação cruzada (5 folds):**  \n",
        "- **Precisão ≈ 0.83** → boa taxa de acerto nas previsões positivas.  \n",
        "- **Recall ≈ 0.67** → captura 67% dos positivos, um pouco menor que no treino.  \n",
        "- **F1-score ≈ 0.74** → desempenho consistente, indicando que o modelo generaliza razoavelmente bem.  \n",
        "\n",
        "**Teste:**  \n",
        "- **Precisão ≈ 0.84** → mantém boa taxa de acertos ao prever positivos.  \n",
        "- **Recall ≈ 0.56** → consegue capturar pouco mais da metade dos casos positivos.  \n",
        "- **F1-score ≈ 0.67** → equilíbrio moderado, inferior ao treino, mas dentro do esperado.  \n",
        "\n",
        "---\n",
        "\n",
        "### Interpretação geral\n",
        "- O modelo de **SVM apresenta excelente precisão**, ou seja, quase nunca erra ao prever a classe positiva.  \n",
        "- Porém, o **recall é mais baixo**, especialmente no teste (~0.56), mostrando que o modelo **deixa escapar muitos casos positivos** (falsos negativos).  \n",
        "- O **F1-score de ~0.67 no teste** indica desempenho aceitável, mas há espaço para melhoria.  \n",
        "\n",
        "Caminhos para evolução:  \n",
        "- **Ajustar o parâmetro `C`** para encontrar melhor equilíbrio entre precisão e recall.  \n",
        "- Testar **balanceamento de classes** (`class_weight=\"balanced\"`) para melhorar o recall.  \n",
        "- Avaliar outros kernels da SVM (linear, polinomial, RBF) para ver se melhoram a separação das classes.  \n"
      ]
    },
    {
      "cell_type": "markdown",
      "id": "T35WI8d7072U",
      "metadata": {
        "id": "T35WI8d7072U"
      },
      "source": [
        "foi treinado o melhor modelo com os melhores parametros obtidos na otimizacao, fala um pouco das metricas resumidamente"
      ]
    },
    {
      "cell_type": "code",
      "execution_count": null,
      "id": "64db861b",
      "metadata": {
        "colab": {
          "base_uri": "https://localhost:8080/"
        },
        "id": "64db861b",
        "outputId": "12a45011-4786-4e4e-b13e-c8cfd9cf4e9b"
      },
      "outputs": [
        {
          "name": "stdout",
          "output_type": "stream",
          "text": [
            "model saved ... SVC(C=99.90622647684818, class_weight={0: 1, 1: 1}, probability=True,\n",
            "    random_state=42)\n"
          ]
        }
      ],
      "source": [
        "# experimento.save(name=\"Support Vector Classifier\", model=svm_model, metrics=metrics, complex_weight=3)"
      ]
    },
    {
      "cell_type": "markdown",
      "id": "38f13163",
      "metadata": {
        "id": "38f13163"
      },
      "source": [
        "> Nesta célula, o método `save` do objeto `experimento` é usado para armazenar o modelo de classificação SVM (Support Vector Classifier) junto às suas métricas de desempenho. Os parâmetros têm os seguintes papéis:"
      ]
    },
    {
      "cell_type": "markdown",
      "id": "0f41f2ef",
      "metadata": {
        "id": "0f41f2ef"
      },
      "source": [
        "## 3.3 decision tree classifier:"
      ]
    },
    {
      "cell_type": "markdown",
      "id": "dfde426f",
      "metadata": {
        "id": "dfde426f"
      },
      "source": [
        "### 3.3.1 fine tunning decision tree:"
      ]
    },
    {
      "cell_type": "code",
      "execution_count": 31,
      "id": "67865a81",
      "metadata": {
        "id": "67865a81"
      },
      "outputs": [],
      "source": [
        "# # comentamos pois ja encontramos os parametros - tempo de execucao aproximadamente: 19 minutos\n",
        "\n",
        "# from sklearn.model_selection import cross_val_score, StratifiedKFold\n",
        "# from sklearn.metrics import make_scorer, f1_score\n",
        "# from sklearn.tree import DecisionTreeClassifier\n",
        "# import optuna\n",
        "\n",
        "# skf = StratifiedKFold(n_splits=5, shuffle=True, random_state=42)\n",
        "# f1_scorer = make_scorer(f1_score, pos_label=1)\n",
        "\n",
        "# def objective(trial):\n",
        "#     max_depth = trial.suggest_categorical(\"max_depth\", [1, 3, 5, 7, 9, 11, 13, 15, 17, 19, 21])\n",
        "#     min_samples_leaf = trial.suggest_categorical(\"min_samples_leaf\", [2, 3, 5, 7, 9])\n",
        "#     min_samples_split = trial.suggest_categorical(\"min_samples_split\", [2, 3, 5, 7, 9])\n",
        "#     min_impurity_decrease = trial.suggest_categorical(\"min_impurity_decrease\", [0.0, 0.01, 0.001, 0.0001])\n",
        "#     weight_1 = trial.suggest_int(\"weight_1\", 1, 10)\n",
        "\n",
        "#     tree = DecisionTreeClassifier(\n",
        "#                                     max_depth=max_depth,\n",
        "#                                     min_samples_leaf=min_samples_leaf,\n",
        "#                                     min_samples_split=min_samples_split,\n",
        "#                                     min_impurity_decrease=min_impurity_decrease,\n",
        "#                                     class_weight={0: 1, 1: weight_1},\n",
        "#                                     random_state=42\n",
        "#                                 )\n",
        "\n",
        "#     scores = cross_val_score(tree, x_train, y_train.values.ravel(), cv=skf, scoring=f1_scorer)\n",
        "#     return scores.mean()\n",
        "\n",
        "# study = optuna.create_study(direction=\"maximize\")\n",
        "# study.optimize(objective, n_trials=1000)\n",
        "\n",
        "# print(\"Melhores parâmetros:\", study.best_trial.params)\n",
        "# print(\"Melhor F1 médio na validação:\", study.best_trial.value)"
      ]
    },
    {
      "cell_type": "markdown",
      "id": "bfc64c76",
      "metadata": {
        "id": "bfc64c76"
      },
      "source": [
        "**Legenda:**\n",
        "\n",
        "Nesta célula foi realizada a **otimização dos hiperparâmetros de uma Árvore de Decisão** utilizando a biblioteca **Optuna**, com foco em maximizar o **F1-score**.  \n",
        "\n",
        "---\n",
        "\n",
        "### Parâmetros otimizados\n",
        "- **`max_depth`**: profundidade máxima da árvore. Controla a complexidade; valores muito altos podem levar a overfitting.  \n",
        "- **`min_samples_leaf`**: número mínimo de amostras em cada folha; evita folhas com poucos exemplos.  \n",
        "- **`min_samples_split`**: número mínimo de amostras necessárias para realizar uma divisão; controla a fragmentação da árvore.  \n",
        "- **`min_impurity_decrease`**: limite mínimo de redução de impureza para permitir uma divisão; ajuda a podar splits irrelevantes.  \n",
        "- **`class_weight`**: ajusta o peso da classe positiva (1). Essencial em datasets desbalanceados, pois aumenta a importância das falhas (classe minoritária).  \n",
        "\n",
        "---\n",
        "\n",
        "### Estratégia de validação\n",
        "- Utilizou-se **validação cruzada estratificada (5 folds)** para manter as proporções de classes em cada divisão.  \n",
        "- A métrica usada foi o **F1-score**, ideal em cenários onde há **desbalanceamento de classes**, pois equilibra precisão e recall.  \n",
        "\n",
        "---\n",
        "\n",
        "### Justificativa\n",
        "Optamos por otimizar porque árvores de decisão são altamente sensíveis à escolha de hiperparâmetros.  \n",
        "Sem esse ajuste, o modelo poderia ficar **muito simples (alto viés)** ou **muito complexo (alto overfitting)**.  \n",
        "\n",
        "Assim, a otimização garantiu um modelo melhor balanceado, capaz de capturar falhas sem comprometer demais a precisão.  \n"
      ]
    },
    {
      "cell_type": "markdown",
      "id": "d79ed347",
      "metadata": {
        "id": "d79ed347"
      },
      "source": [
        "### 3.3.2 fit best parameter config decision tree:"
      ]
    },
    {
      "cell_type": "code",
      "execution_count": null,
      "id": "8a8631b1",
      "metadata": {
        "colab": {
          "base_uri": "https://localhost:8080/",
          "height": 69
        },
        "id": "8a8631b1",
        "outputId": "1779b0d8-4a63-4642-a935-e3889f177f0d"
      },
      "outputs": [
        {
          "data": {
            "text/plain": [
              "{'train': {'precision': 0.86585, 'recall': 0.80682, 'f1': 0.83529},\n",
              " 'val': {'precision': 0.8398, 'recall': 0.62104, 'f1': 0.71341},\n",
              " 'test': {'precision': 0.79688, 'recall': 0.77273, 'f1': 0.78462}}"
            ]
          },
          "metadata": {},
          "output_type": "display_data"
        }
      ],
      "source": [
        "# from sklearn.tree import DecisionTreeClassifier\n",
        "\n",
        "# tree_model = DecisionTreeClassifier(\n",
        "#                                 max_depth=11,\n",
        "#                                 min_samples_leaf=5,\n",
        "#                                 min_samples_split=2,\n",
        "#                                 min_impurity_decrease=0.0001,\n",
        "#                                 class_weight={0: 1, 1: 1},\n",
        "#                                 random_state=42\n",
        "#                             )\n",
        "\n",
        "# tree_model.fit(x_train, y_train.values.ravel())\n",
        "\n",
        "# y_train_probs = tree_model.predict_proba(x_train)[:, 1]\n",
        "# y_test_probs = tree_model.predict_proba(x_test)[:, 1]\n",
        "\n",
        "# metrics_train = precision_recall_f1(y_train, y_train_probs, threshold=0.5)\n",
        "# metrics_val = cv_metrics_precision_recall_f1(tree_model, x_train, y_train, n_splits=5, random_state=42)\n",
        "# metrics_test = precision_recall_f1(y_test, y_test_probs, threshold=0.5)\n",
        "# metrics = {\"train\": metrics_train, \"val\": metrics_val,\"test\": metrics_test}\n",
        "# display(metrics)"
      ]
    },
    {
      "cell_type": "markdown",
      "id": "b488ebf4",
      "metadata": {
        "id": "b488ebf4"
      },
      "source": [
        "**Legenda:**\n",
        "\n",
        "Nesta célula treinamos uma **Árvore de Decisão** já configurada com os melhores parâmetros encontrados na otimização anterior.  \n",
        "\n",
        "### Configuração do modelo\n",
        "- `max_depth=11`: profundidade máxima da árvore, evitando overfitting excessivo.  \n",
        "- `min_samples_leaf=5`: cada folha deve ter pelo menos 5 amostras, aumentando a robustez.  \n",
        "- `min_samples_split=2`: divisão mínima permitida de nós.  \n",
        "- `min_impurity_decrease=0.0001`: só permite splits que tragam ganho mínimo de pureza.  \n",
        "- `class_weight={0:1, 1:1}`: não aplicamos pesos diferenciados nesta versão final.  \n",
        "- `random_state=42`: garante reprodutibilidade.  \n",
        "\n",
        "---\n",
        "\n",
        "### Treinamento e avaliação\n",
        "- O modelo foi treinado em `x_train, y_train`.  \n",
        "- As probabilidades previstas foram avaliadas tanto no **treino**, **validação cruzada** e **teste**.  \n",
        "- Utilizamos `precision_recall_f1` e `cv_metrics_precision_recall_f1` para calcular as métricas principais.  \n",
        "\n",
        "---\n",
        "\n",
        "### Métricas obtidas\n",
        "**Treino:**  \n",
        "- Precisão ≈ **0.87**  \n",
        "- Recall ≈ **0.81**  \n",
        "- F1 ≈ **0.84**  \n",
        "\n",
        "**Validação cruzada (5 folds):**  \n",
        "- Precisão ≈ **0.84**  \n",
        "- Recall ≈ **0.62**  \n",
        "- F1 ≈ **0.71**  \n",
        "\n",
        "**Teste:**  \n",
        "- Precisão ≈ **0.80**  \n",
        "- Recall ≈ **0.77**  \n",
        "- F1 ≈ **0.78**  \n",
        "\n",
        "---\n",
        "\n",
        "### Interpretação geral\n",
        "- O modelo apresenta **bom equilíbrio entre precisão e recall**, especialmente no teste, com **F1 ≈ 0.78**.  \n",
        "- A precisão está alta (~0.80), o que significa poucas previsões falsas de falha.  \n",
        "- O recall também é consistente (~0.77), mostrando que o modelo recupera a maior parte das falhas reais.  \n",
        "- Comparado a modelos anteriores, a Árvore de Decisão mostra-se **mais equilibrada** e com **melhor recall**, o que é positivo em um problema de predição de falhas.  "
      ]
    },
    {
      "cell_type": "code",
      "execution_count": null,
      "id": "ecb6b8e2",
      "metadata": {
        "colab": {
          "base_uri": "https://localhost:8080/"
        },
        "id": "ecb6b8e2",
        "outputId": "6fc69de2-de73-4855-f6fb-116b5f2e851a"
      },
      "outputs": [
        {
          "name": "stdout",
          "output_type": "stream",
          "text": [
            "model saved ... DecisionTreeClassifier(class_weight={0: 1, 1: 1}, max_depth=11,\n",
            "                       min_impurity_decrease=0.0001, min_samples_leaf=5,\n",
            "                       random_state=42)\n"
          ]
        }
      ],
      "source": [
        "# experimento.save(name=\"Decision Tree Classifier\", model=tree_model, metrics=metrics, complex_weight=2)"
      ]
    },
    {
      "cell_type": "markdown",
      "id": "4bba8faf",
      "metadata": {
        "id": "4bba8faf"
      },
      "source": [
        "**Legenda:**\n",
        "\n",
        "> Esta linha de código utiliza o método `save` do objeto `experimento` para registrar o modelo de Árvore de Decisão (`Decision Tree`) que foi treinado.\n",
        ">**Em resumo**, o código salva o modelo de Árvore de Decisão, seu nome, suas métricas de performance e seu peso de complexidade no sistema de experimentação.\n"
      ]
    },
    {
      "cell_type": "markdown",
      "id": "f344d299",
      "metadata": {
        "id": "f344d299"
      },
      "source": [
        "## 3.4 random forrest:"
      ]
    },
    {
      "cell_type": "markdown",
      "id": "dbe69c66",
      "metadata": {
        "id": "dbe69c66"
      },
      "source": [
        "##### 3.4.1 fine tunning random forrest:"
      ]
    },
    {
      "cell_type": "code",
      "execution_count": null,
      "id": "ee34e22c",
      "metadata": {
        "id": "ee34e22c"
      },
      "outputs": [],
      "source": [
        "# cometamos pois ja encontramos os parametros, descomentar caso queria rodar novamente - tempo de execucao aproximadamente: 325 minutos\n",
        "\n",
        "from sklearn.model_selection import cross_val_score, StratifiedKFold\n",
        "from sklearn.metrics import make_scorer, f1_score\n",
        "from sklearn.ensemble import RandomForestClassifier\n",
        "import optuna\n",
        "\n",
        "skf = StratifiedKFold(n_splits=5, shuffle=True, random_state=42)\n",
        "f1_scorer = make_scorer(f1_score, pos_label=1)\n",
        "\n",
        "def objective(trial):\n",
        "    max_depth = trial.suggest_categorical(\"max_depth\", [5, 10, 15, 20, 30, 40, 50])\n",
        "    min_samples_leaf = trial.suggest_categorical(\"min_samples_leaf\", [2, 3, 4, 5])\n",
        "    min_samples_split = trial.suggest_categorical(\"min_samples_split\", [2, 3, 4, 5])\n",
        "    weight_1 = trial.suggest_categorical(\"weight_1\", [1, 2, 3, 4, 5, 6, 7, 8, 9,10])\n",
        "    min_impurity_decrease = trial.suggest_categorical(\"min_impurity_decrease\", [0.0, 0.01, 0.001, 0.0001])\n",
        "    max_features = trial.suggest_categorical(\"max_features\", [0.5, 0.7, 1.0, \"sqrt\", \"log2\"])\n",
        "    criterion = trial.suggest_categorical(\"criterion\", [\"gini\", \"entropy\"])\n",
        "    n_estimators = trial.suggest_categorical(\"n_estimators\", [10, 50, 100, 200, 300, 500])\n",
        "    bootstrap = trial.suggest_categorical(\"bootstrap\", [True, False])\n",
        "\n",
        "\n",
        "    rf_model = RandomForestClassifier(\n",
        "            max_depth=max_depth,\n",
        "            n_estimators=n_estimators,\n",
        "            min_samples_leaf=min_samples_leaf,\n",
        "            min_samples_split=min_samples_split,\n",
        "            class_weight={0:1, 1:weight_1},\n",
        "            min_impurity_decrease=min_impurity_decrease,\n",
        "            max_features=max_features,\n",
        "            criterion=criterion,\n",
        "            bootstrap=bootstrap,\n",
        "            random_state=42\n",
        "        )\n",
        "\n",
        "    scores = cross_val_score(rf_model, x_train, y_train.values.ravel(), cv=skf, scoring=f1_scorer)\n",
        "    return scores.mean()\n",
        "\n",
        "study = optuna.create_study(direction=\"maximize\")\n",
        "study.optimize(objective, n_trials=1000)\n",
        "\n",
        "print(\"Melhores parâmetros:\", study.best_trial.params)\n",
        "print(\"Melhor F1 médio na validação:\", study.best_trial.value)"
      ]
    },
    {
      "cell_type": "markdown",
      "id": "264459dd",
      "metadata": {
        "id": "264459dd"
      },
      "source": [
        "**Legenda:**\n",
        "\n",
        "Nesta célula realizamos a **otimização de hiperparâmetros de uma Random Forest**, com o objetivo de maximizar o **F1-score**.  \n",
        "\n",
        "---\n",
        "\n",
        "### Parâmetros otimizados\n",
        "- **`max_depth`**: profundidade máxima das árvores. Controla o equilíbrio entre simplicidade e complexidade do modelo.  \n",
        "- **`min_samples_leaf`**: número mínimo de amostras em cada folha, evita divisões muito pequenas.  \n",
        "- **`min_samples_split`**: número mínimo de amostras para que um nó seja dividido.  \n",
        "- **`class_weight`**: ajusta o peso da classe positiva (1), essencial em datasets desbalanceados.  \n",
        "- **`min_impurity_decrease`**: define a redução mínima de impureza para aceitar uma divisão.  \n",
        "- **`max_features`**: número de variáveis consideradas em cada divisão (`0.5`, `0.7`, `1.0`, `\"sqrt\"`, `\"log2\"`). Controla a diversidade das árvores.  \n",
        "- **`criterion`**: medida usada para avaliar divisões (impureza de **Gini** ou **Entropia**).  \n",
        "- **`n_estimators`**: número de árvores no ensemble. Mais árvores aumentam estabilidade, mas também custo computacional.  \n",
        "- **`bootstrap`**: se `True`, cada árvore é treinada em uma amostra bootstrap (com reposição), promovendo diversidade.  \n",
        "\n",
        "---\n",
        "\n",
        "### Estratégia de validação\n",
        "- Utilizamos **validação cruzada estratificada (5 folds)** para manter a proporção das classes.  \n",
        "- Métrica: **F1-score**, escolhida por equilibrar precisão e recall em um problema com **desbalanceamento de classes**.  \n",
        "\n",
        "---\n",
        "\n",
        "### Justificativa\n",
        "A Random Forest possui diversos hiperparâmetros que impactam diretamente no desempenho.  \n",
        "Optar por otimização sistemática evita escolhas arbitrárias e garante um modelo **mais robusto e equilibrado**.  \n",
        "\n",
        "Com isso, conseguimos encontrar uma configuração de floresta que maximiza o **F1-score**, capturando mais falhas sem perder muita precisão.  \n",
        "\n",
        "---"
      ]
    },
    {
      "cell_type": "markdown",
      "id": "d2a9e8ac",
      "metadata": {
        "id": "d2a9e8ac"
      },
      "source": [
        "### 3.4.2 fit best parameter config Random Forrest:"
      ]
    },
    {
      "cell_type": "code",
      "execution_count": 35,
      "id": "bdd27d98",
      "metadata": {
        "colab": {
          "base_uri": "https://localhost:8080/",
          "height": 69
        },
        "id": "bdd27d98",
        "outputId": "72320130-12e8-4675-de96-20795e01a6de"
      },
      "outputs": [
        {
          "data": {
            "text/plain": [
              "{'train': {'precision': 0.94928, 'recall': 0.99242, 'f1': 0.97037},\n",
              " 'val': {'precision': 0.8736, 'recall': 0.73091, 'f1': 0.79472},\n",
              " 'test': {'precision': 0.9, 'recall': 0.81818, 'f1': 0.85714}}"
            ]
          },
          "metadata": {},
          "output_type": "display_data"
        }
      ],
      "source": [
        "from sklearn.ensemble import RandomForestClassifier\n",
        "\n",
        "rf_model = RandomForestClassifier(max_depth=15,\n",
        "                                  n_estimators=500,\n",
        "                                  min_samples_leaf=3,\n",
        "                                  min_samples_split=3,\n",
        "                                  class_weight={0:1, 1:7},\n",
        "                                  min_impurity_decrease=0.0,\n",
        "                                  max_features=0.7,\n",
        "                                  criterion=\"entropy\",\n",
        "                                  bootstrap=True,\n",
        "                                  random_state=42,\n",
        "                                )\n",
        "\n",
        "rf_model.fit(x_train, y_train.values.ravel())\n",
        "\n",
        "y_train_probs = rf_model.predict_proba(x_train)[:, 1]\n",
        "y_test_probs = rf_model.predict_proba(x_test)[:, 1]\n",
        "\n",
        "metrics_train = precision_recall_f1(y_train, y_train_probs, threshold=0.5)\n",
        "metrics_val = cv_metrics_precision_recall_f1(rf_model, x_train, y_train, n_splits=5, random_state=42)\n",
        "metrics_test = precision_recall_f1(y_test, y_test_probs, threshold=0.5)\n",
        "metrics = {\"train\": metrics_train, \"val\": metrics_val,\"test\": metrics_test}\n",
        "display(metrics)"
      ]
    },
    {
      "cell_type": "markdown",
      "id": "67dfc108",
      "metadata": {
        "id": "67dfc108"
      },
      "source": [
        "**Legenda:**\n",
        "\n",
        "Nesta célula treinamos o modelo **Random Forest** utilizando os parâmetros encontrados na otimização.  \n",
        "\n",
        "### Configuração do modelo\n",
        "- `max_depth=15`: controla a profundidade máxima das árvores, limitando complexidade.  \n",
        "- `n_estimators=500`: usa 500 árvores, garantindo **alta estabilidade**.  \n",
        "- `min_samples_leaf=3`: cada folha deve ter pelo menos 3 amostras.  \n",
        "- `min_samples_split=3`: exige ao menos 3 amostras para dividir um nó.  \n",
        "- `class_weight={0:1, 1:7}`: aumenta o peso da classe positiva, forçando o modelo a dar mais atenção às falhas.  \n",
        "- `min_impurity_decrease=0.0`: sem exigência mínima de ganho de pureza.  \n",
        "- `max_features=0.7`: cada árvore considera apenas 70% das variáveis em cada split, aumentando diversidade.  \n",
        "- `criterion=\"entropy\"`: usa entropia para medir qualidade das divisões.  \n",
        "- `bootstrap=True`: usa amostras bootstrap para cada árvore.  \n",
        "- `random_state=42`: garante reprodutibilidade.  \n",
        "\n",
        "---\n",
        "\n",
        "### Métricas obtidas\n",
        "**Treino:**  \n",
        "- Precisão ≈ **0.95**  \n",
        "- Recall ≈ **0.99**  \n",
        "- F1 ≈ **0.97**  \n",
        "\n",
        "**Validação cruzada (5 folds):**  \n",
        "- Precisão ≈ **0.87**  \n",
        "- Recall ≈ **0.73**  \n",
        "- F1 ≈ **0.79**  \n",
        "\n",
        "**Teste:**  \n",
        "- Precisão ≈ **0.90**  \n",
        "- Recall ≈ **0.82**  \n",
        "- F1 ≈ **0.86**  \n",
        "\n",
        "---\n",
        "\n",
        "### Interpretação geral\n",
        "- O modelo apresenta **ótimo desempenho no treino (F1 ≈ 0.97)**, mas ainda generaliza bem para validação e teste.  \n",
        "- **Teste com F1 ≈ 0.86**: forte equilíbrio entre precisão (90%) e recall (82%).  \n",
        "- Comparado a modelos anteriores, a Random Forest consegue **capturar mais falhas** sem perder tanta precisão.  \n",
        "- O recall elevado no teste indica que o modelo **consegue identificar a maior parte das falhas reais**, característica essencial para este tipo de problema.  \n",
        "\n",
        "A Random Forest se mostra uma das abordagens mais promissoras até agora, com **bom trade-off entre recall e precisão** e baixa tendência a overfitting.\n",
        "\n",
        "---"
      ]
    },
    {
      "cell_type": "code",
      "execution_count": 36,
      "id": "5c1fec19",
      "metadata": {
        "colab": {
          "base_uri": "https://localhost:8080/"
        },
        "id": "5c1fec19",
        "outputId": "e4541dcf-e9dc-4798-9f7a-cb22b93f9a72"
      },
      "outputs": [
        {
          "name": "stdout",
          "output_type": "stream",
          "text": [
            "model saved ... RandomForestClassifier(class_weight={0: 1, 1: 7}, criterion='entropy',\n",
            "                       max_depth=15, max_features=0.7, min_samples_leaf=3,\n",
            "                       min_samples_split=3, n_estimators=500, random_state=42)\n"
          ]
        }
      ],
      "source": [
        "experimento.save(name=\"Random Forrest Classifier\", model=rf_model, metrics=metrics, complex_weight=4)"
      ]
    },
    {
      "cell_type": "markdown",
      "id": "08756d1f",
      "metadata": {
        "id": "08756d1f"
      },
      "source": [
        "**Legenda:**\n",
        "\n",
        "> Esta linha salva o modelo **Random Forest** treinado usando o método `save` do objeto `experimento`.\n"
      ]
    },
    {
      "cell_type": "markdown",
      "id": "e26b46ee",
      "metadata": {
        "id": "e26b46ee"
      },
      "source": [
        "## 3.5 Ada boosting:"
      ]
    },
    {
      "cell_type": "markdown",
      "id": "ebf79082",
      "metadata": {
        "id": "ebf79082"
      },
      "source": [
        "##### 3.5.1 fine tunning ada boosting:"
      ]
    },
    {
      "cell_type": "code",
      "execution_count": 37,
      "id": "7c8dc54f",
      "metadata": {
        "id": "7c8dc54f"
      },
      "outputs": [],
      "source": [
        "# # comentamos pois ja encontramos os parametros, descomentar caso queria rodar novamente - tempo de execucao aproximadamente: 382 minutos\n",
        "\n",
        "# from sklearn.model_selection import cross_val_score, StratifiedKFold\n",
        "# from sklearn.metrics import make_scorer, f1_score\n",
        "# from sklearn.ensemble import AdaBoostClassifier\n",
        "# from sklearn.tree import DecisionTreeClassifier\n",
        "# import optuna\n",
        "\n",
        "# skf = StratifiedKFold(n_splits=5, shuffle=True, random_state=42)\n",
        "# f1_scorer = make_scorer(f1_score, pos_label=1)\n",
        "\n",
        "# def objective(trial):\n",
        "#     max_depth = trial.suggest_categorical(\"max_depth\", [7, 17])\n",
        "#     min_samples_leaf = trial.suggest_categorical(\"min_samples_leaf\", [3, 6])\n",
        "#     min_impurity_decrease = trial.suggest_float(\"min_impurity_decrease\", 0.00153, 0.001532, log=True)\n",
        "#     class_weight_1 = trial.suggest_categorical(\"class_weight_1\", [2, 9])\n",
        "\n",
        "#     n_estimators = trial.suggest_categorical(\"n_estimators\", [377, 477])\n",
        "#     learning_rate = trial.suggest_float(\"learning_rate\", 0.05309, 0.0531, log=True)\n",
        "\n",
        "#     base_tree = DecisionTreeClassifier(\n",
        "#         max_depth=max_depth,\n",
        "#         min_samples_leaf=min_samples_leaf,\n",
        "#         min_impurity_decrease=min_impurity_decrease,\n",
        "#         class_weight={0:1, 1:class_weight_1},\n",
        "#         random_state=42\n",
        "#     )\n",
        "\n",
        "#     ada_model = AdaBoostClassifier(\n",
        "#         estimator=base_tree,\n",
        "#         n_estimators=n_estimators,\n",
        "#         learning_rate=learning_rate,\n",
        "#         random_state=42\n",
        "#     )\n",
        "\n",
        "#     scores = cross_val_score(ada_model, x_train, y_train.values.ravel(), cv=skf, scoring=f1_scorer)\n",
        "#     return scores.mean()\n",
        "\n",
        "# study = optuna.create_study(direction=\"maximize\")\n",
        "# study.optimize(objective, n_trials=1000)\n",
        "\n",
        "# print(\"Melhores parâmetros:\", study.best_trial.params)\n",
        "# print(\"Melhor F1 médio na validação:\", study.best_trial.value)\n"
      ]
    },
    {
      "cell_type": "markdown",
      "id": "1455734c",
      "metadata": {
        "id": "1455734c"
      },
      "source": [
        "**Legenda:**\n",
        "\n",
        "Nesta célula realizamos a **otimização de hiperparâmetros do modelo AdaBoost** com um classificador base do tipo **Árvore de Decisão**, para maximizar o **F1-score**.  \n",
        "\n",
        "---\n",
        "\n",
        "### Parâmetros otimizados\n",
        "- **Base Learner (Árvore de Decisão):**\n",
        "  - `max_depth`: controla a profundidade máxima da árvore (7 ou 17 testados). Árvores mais profundas capturam mais padrões, mas podem superajustar.  \n",
        "  - `min_samples_leaf`: número mínimo de amostras em cada folha.  \n",
        "  - `min_impurity_decrease`: exige uma redução mínima na impureza para permitir uma divisão, ajudando a evitar divisões irrelevantes.  \n",
        "  - `class_weight={0:1, 1:k}`: ajusta o peso da classe positiva (1), essencial para lidar com o **desbalanceamento**.  \n",
        "\n",
        "- **AdaBoost:**\n",
        "  - `n_estimators`: número de classificadores fracos combinados (377 ou 477 testados). Mais estimadores tendem a aumentar a estabilidade.  \n",
        "  - `learning_rate`: taxa de aprendizado que controla a contribuição de cada classificador fraco. Valores pequenos (como ~0.053) tornam o modelo mais conservador e estável.  \n",
        "\n",
        "---\n",
        "\n",
        "### Estratégia de validação\n",
        "- Foi aplicada **validação cruzada estratificada (5 folds)** para garantir que a proporção entre classes fosse preservada em cada divisão.  \n",
        "- A métrica usada foi o **F1-score**, pois equilibra precisão e recall, ideal em problemas com classes desbalanceadas.  \n",
        "\n",
        "---\n",
        "\n",
        "### Justificativa\n",
        "O AdaBoost combina vários **classificadores fracos (árvores pouco profundas)** para formar um modelo mais robusto.  \n",
        "A escolha correta de hiperparâmetros é crucial, pois:  \n",
        "- Árvores muito profundas ou com muitos estimadores podem levar a **overfitting**.  \n",
        "- Árvores muito rasas ou poucos estimadores podem levar a **underfitting**.  \n",
        "\n",
        "Assim, a otimização garantiu que o modelo fosse configurado de forma equilibrada, maximizando o F1-score sem perder generalização.  \n"
      ]
    },
    {
      "cell_type": "markdown",
      "id": "867c9519",
      "metadata": {
        "id": "867c9519"
      },
      "source": [
        "### 3.5.2 fit best parameter config Adaboosting:"
      ]
    },
    {
      "cell_type": "code",
      "execution_count": 38,
      "id": "2e04cb92",
      "metadata": {
        "colab": {
          "base_uri": "https://localhost:8080/",
          "height": 69
        },
        "id": "2e04cb92",
        "outputId": "93082de8-381d-4f9e-c560-048cd9509f6d"
      },
      "outputs": [],
      "source": [
        "# from sklearn.ensemble import AdaBoostClassifier\n",
        "# from sklearn.tree import DecisionTreeClassifier\n",
        "\n",
        "# base_tree = DecisionTreeClassifier(\n",
        "#         max_depth=17,\n",
        "#         min_samples_leaf=3,\n",
        "#         min_impurity_decrease=0.0015308770816931528,\n",
        "#         class_weight={0:1, 1:9},\n",
        "#         random_state=42\n",
        "#     )\n",
        "\n",
        "# ada_model = AdaBoostClassifier(\n",
        "#     estimator=base_tree,\n",
        "#     n_estimators=477,\n",
        "#     learning_rate= 0.05309756471678731,\n",
        "#     random_state=42\n",
        "# )\n",
        "\n",
        "\n",
        "# ada_model.fit(x_train, y_train.values.ravel())\n",
        "\n",
        "# y_train_probs = ada_model.predict_proba(x_train)[:, 1]\n",
        "# y_test_probs = ada_model.predict_proba(x_test)[:, 1]\n",
        "\n",
        "# metrics_train = precision_recall_f1(y_train, y_train_probs, threshold=0.5)\n",
        "# metrics_val = cv_metrics_precision_recall_f1(ada_model, x_train, y_train, n_splits=5, random_state=42)\n",
        "# metrics_test = precision_recall_f1(y_test, y_test_probs, threshold=0.5)\n",
        "# metrics = {\"train\": metrics_train, \"val\": metrics_val,\"test\": metrics_test}\n",
        "# display(metrics)"
      ]
    },
    {
      "cell_type": "markdown",
      "id": "d1444bf6",
      "metadata": {
        "id": "d1444bf6"
      },
      "source": [
        "**Legenda:**\n",
        "\n",
        "Nesta célula foi treinado o modelo **AdaBoost** com base em uma **Árvore de Decisão** configurada com os melhores parâmetros obtidos na otimização.  \n",
        "\n",
        "### Configuração do modelo\n",
        "- **Base Learner (DecisionTreeClassifier):**\n",
        "  - `max_depth=17`: árvore relativamente profunda, capturando interações complexas.  \n",
        "  - `min_samples_leaf=3`: garante robustez mínima em cada folha.  \n",
        "  - `min_impurity_decrease≈0.00153`: evita splits pouco relevantes.  \n",
        "  - `class_weight={0:1, 1:9}`: dá muito mais peso às falhas (classe positiva).  \n",
        "\n",
        "- **AdaBoostClassifier:**\n",
        "  - `n_estimators=477`: utiliza 477 árvores fracas combinadas.  \n",
        "  - `learning_rate≈0.053`: taxa de aprendizado baixa, evitando overajuste e dando peso equilibrado a cada árvore.  \n",
        "  - `random_state=42`: reprodutibilidade.  \n",
        "\n",
        "---\n",
        "\n",
        "### Métricas obtidas\n",
        "**Treino:**  \n",
        "- Precisão = **1.00**  \n",
        "- Recall = **1.00**  \n",
        "- F1 = **1.00**  \n",
        "\n",
        "**Validação cruzada (5 folds):**  \n",
        "- Precisão ≈ **0.87**  \n",
        "- Recall ≈ **0.73**  \n",
        "- F1 ≈ **0.79**  \n",
        "\n",
        "**Teste:**  \n",
        "- Precisão ≈ **0.93**  \n",
        "- Recall ≈ **0.80**  \n",
        "- F1 ≈ **0.86**  \n",
        "\n",
        "---\n",
        "\n",
        "### Interpretação geral\n",
        "- No **treino**, o modelo atingiu métricas perfeitas ``(overfitting evidente)``.  \n",
        "- Porém, na **validação** e **teste**, as métricas são bem mais realistas, com **F1 ≈ 0.86 no teste**, mostrando excelente equilíbrio entre precisão e recall.  \n",
        "- O modelo é capaz de **capturar a maioria das falhas (recall alto ≈ 0.80)**, ao mesmo tempo em que mantém **baixa taxa de falsos positivos (precisão ≈ 0.93)**.  \n",
        "\n",
        ">Conclusão: O AdaBoost com Decision Trees demonstrou ser um **modelo extremamente competitivo**, equilibrando bem as métricas e se mostrando mais robusto que modelos anteriores.  "
      ]
    },
    {
      "cell_type": "code",
      "execution_count": 39,
      "id": "fb24a974",
      "metadata": {
        "colab": {
          "base_uri": "https://localhost:8080/"
        },
        "id": "fb24a974",
        "outputId": "038a417d-2e38-432c-9ee1-d1ee3bc64617"
      },
      "outputs": [
        {
          "name": "stdout",
          "output_type": "stream",
          "text": [
            "model saved ... AdaBoostClassifier(estimator=DecisionTreeClassifier(class_weight={0: 1, 1: 9},\n",
            "                                                    max_depth=17,\n",
            "                                                    min_impurity_decrease=0.0015308770816931528,\n",
            "                                                    min_samples_leaf=3,\n",
            "                                                    random_state=42),\n",
            "                   learning_rate=0.05309756471678731, n_estimators=477,\n",
            "                   random_state=42)\n"
          ]
        }
      ],
      "source": [
        "experimento.save(name=\"Ada Boosting Classifier\", model=ada_model, metrics=metrics, complex_weight=5)"
      ]
    },
    {
      "cell_type": "markdown",
      "id": "498522b5",
      "metadata": {
        "id": "498522b5"
      },
      "source": [
        "**Legenda:**\n",
        "\n",
        "> Este comando utiliza o método `save` do objeto `experimento` para armazenar o modelo **AdaBoost** (Adaptive Boosting) treinado. **Em resumo**, a linha salva o modelo AdaBoost treinado, juntamente com seu nome, métricas de desempenho e peso de complexidade, no sistema de gerenciamento de experimentos."
      ]
    },
    {
      "cell_type": "markdown",
      "id": "a48a8e91",
      "metadata": {
        "id": "a48a8e91"
      },
      "source": [
        "## 3.6 Gradient Boosting:"
      ]
    },
    {
      "cell_type": "markdown",
      "id": "7a22a7cf",
      "metadata": {
        "id": "7a22a7cf"
      },
      "source": [
        "##### 3.6.1 fine tunning Gradient Boosting:"
      ]
    },
    {
      "cell_type": "code",
      "execution_count": 40,
      "id": "779ca349",
      "metadata": {
        "id": "779ca349"
      },
      "outputs": [],
      "source": [
        "# # Comentamos pois já encontramos os parametros, descomentar caso queria rodar novamente - tempo de execucao aproximadamente: 428 minutos\n",
        "\n",
        "# from sklearn.model_selection import cross_val_score, StratifiedKFold\n",
        "# from sklearn.metrics import make_scorer, f1_score\n",
        "# from sklearn.ensemble import GradientBoostingClassifier\n",
        "# import optuna\n",
        "\n",
        "# skf = StratifiedKFold(n_splits=5, shuffle=True, random_state=42)\n",
        "# f1_scorer = make_scorer(f1_score, pos_label=1)\n",
        "\n",
        "# def objective(trial):\n",
        "#     max_depth = trial.suggest_int(\"max_depth\", 2, 21)\n",
        "#     min_samples_leaf = trial.suggest_int(\"min_samples_leaf\", 1, 20)\n",
        "#     min_samples_split = trial.suggest_int(\"min_samples_split\", 2, 10)\n",
        "#     min_impurity_decrease = trial.suggest_float(\"min_impurity_decrease\", 0.0, 0.01)\n",
        "#     subsample = trial.suggest_float(\"subsample\", 0.6, 1.0)\n",
        "#     n_estimators = trial.suggest_int(\"n_estimators\", 100, 500)\n",
        "#     learning_rate = trial.suggest_float(\"learning_rate\", 0.005, 0.2, log=True)\n",
        "#     criterion = trial.suggest_categorical(\"criterion\", [\"squared_error\", \"friedman_mse\"])\n",
        "#     max_features = trial.suggest_categorical(\"max_features\", [\"sqrt\", \"log2\", 0.5, 0.7, 1.0])\n",
        "\n",
        "\n",
        "#     g_boosting = GradientBoostingClassifier(\n",
        "#         max_depth=max_depth,\n",
        "#         min_samples_leaf=min_samples_leaf,\n",
        "#         min_impurity_decrease=min_impurity_decrease,\n",
        "#         subsample=subsample,\n",
        "#         n_estimators=n_estimators,\n",
        "#         learning_rate=learning_rate,\n",
        "#         criterion=criterion,\n",
        "#         max_features=max_features,\n",
        "#         random_state=42\n",
        "#     )\n",
        "\n",
        "#     scores = cross_val_score(g_boosting, x_train, y_train.values.ravel(), cv=skf, scoring=f1_scorer)\n",
        "#     return scores.mean()\n",
        "\n",
        "# study = optuna.create_study(direction=\"maximize\")\n",
        "# study.optimize(objective, n_trials=1000)\n",
        "\n",
        "# print(\"Melhores parâmetros:\", study.best_trial.params)\n",
        "# print(\"Melhor F1 no teste:\", study.best_trial.value)"
      ]
    },
    {
      "cell_type": "markdown",
      "id": "edf9aaec",
      "metadata": {
        "id": "edf9aaec"
      },
      "source": [
        "**Legenda (Otimização – Gradient Boosting):**\n",
        "\n",
        "Nesta célula foi realizada a **otimização de hiperparâmetros** para o modelo **Gradient Boosting**, com o objetivo de **maximizar o F1-score**.  \n",
        "\n",
        "---\n",
        "\n",
        "### Parâmetros otimizados\n",
        "- **Estrutura das árvores:**\n",
        "  - `max_depth`: profundidade máxima das árvores. Valores maiores capturam interações complexas, mas aumentam risco de overfitting.  \n",
        "  - `min_samples_leaf`: número mínimo de amostras por folha, evitando folhas muito pequenas.  \n",
        "  - `min_samples_split`: número mínimo de amostras necessário para uma divisão.  \n",
        "  - `min_impurity_decrease`: garante que divisões só ocorram quando realmente relevantes.  \n",
        "\n",
        "- **Gradient Boosting:**\n",
        "  - `subsample`: proporção de dados usada em cada árvore. Valores < 1.0 tornam o modelo mais **estocástico**, aumentando a robustez.  \n",
        "  - `n_estimators`: número de árvores combinadas.  \n",
        "  - `learning_rate`: controla a contribuição de cada árvore. Valores baixos (como 0.05) reduzem overfitting.  \n",
        "  - `criterion`: mede a qualidade das divisões (`friedman_mse` ou `squared_error`).  \n",
        "  - `max_features`: número de features considerado em cada split.  \n",
        "\n",
        "---\n",
        "\n",
        "### Estratégia de validação\n",
        "- **Validação cruzada estratificada (5 folds)** preservando a proporção de classes.  \n",
        "- Métrica: **F1-score**, equilibrando precisão e recall para lidar com classes desbalanceadas.  \n",
        "\n",
        "---\n",
        "\n",
        "### Justificativa\n",
        "O Gradient Boosting constrói **árvores sequenciais**, onde cada nova árvore corrige erros das anteriores.  \n",
        "A otimização é essencial porque:\n",
        "- Muitos estimadores e profundidade alta podem causar **overfitting**.  \n",
        "- Poucos estimadores ou taxa de aprendizado muito alta podem levar a **underfitting**.  \n",
        "\n",
        "A busca encontrou um equilíbrio entre **complexidade das árvores** e **taxa de aprendizado**, maximizando o desempenho.  \n",
        "\n",
        "---"
      ]
    },
    {
      "cell_type": "markdown",
      "id": "c08d67a7",
      "metadata": {
        "id": "c08d67a7"
      },
      "source": [
        "#### 3.6.2 fit best parameter config Gradient Boosting:"
      ]
    },
    {
      "cell_type": "code",
      "execution_count": 41,
      "id": "f54a7939",
      "metadata": {
        "colab": {
          "base_uri": "https://localhost:8080/",
          "height": 69
        },
        "id": "f54a7939",
        "outputId": "adbb8f0d-2f88-4dc5-b258-753d5e5cf658"
      },
      "outputs": [],
      "source": [
        "# from sklearn.ensemble import GradientBoostingClassifier\n",
        "\n",
        "# g_boosting = GradientBoostingClassifier(\n",
        "#                     max_depth=17,\n",
        "#                     min_samples_leaf=8,\n",
        "#                     min_impurity_decrease=0.0010266802349129212,\n",
        "#                     subsample=0.866563526312947,\n",
        "#                     n_estimators=265,\n",
        "#                     learning_rate=0.04636051072855432,\n",
        "#                     criterion='friedman_mse',\n",
        "#                     max_features=1.0,\n",
        "#                     random_state=42\n",
        "#                 )\n",
        "\n",
        "# g_boosting.fit(x_train, y_train.values.ravel())\n",
        "\n",
        "# y_train_probs = g_boosting.predict_proba(x_train)[:, 1]\n",
        "# y_test_probs = g_boosting.predict_proba(x_test)[:, 1]\n",
        "\n",
        "# metrics_train = precision_recall_f1(y_train, y_train_probs, threshold=0.5)\n",
        "# metrics_val = cv_metrics_precision_recall_f1(g_boosting, x_train, y_train, n_splits=5, random_state=42)\n",
        "# metrics_test = precision_recall_f1(y_test, y_test_probs, threshold=0.5)\n",
        "# metrics = {\"train\": metrics_train, \"val\": metrics_val,\"test\": metrics_test}\n",
        "# display(metrics)"
      ]
    },
    {
      "cell_type": "markdown",
      "id": "83baa975",
      "metadata": {
        "id": "83baa975"
      },
      "source": [
        "**Legenda (Modelo – Gradient Boosting):**\n",
        "\n",
        "Aqui foi treinado o **GradientBoostingClassifier** com os melhores parâmetros encontrados pela otimização.  \n",
        "\n",
        "---\n",
        "\n",
        "### Configuração do modelo\n",
        "- `max_depth=17`: árvores relativamente profundas, capturam relações complexas.  \n",
        "- `min_samples_leaf=8`: garante folhas mais estáveis.  \n",
        "- `min_impurity_decrease≈0.0010`: exige relevância mínima para splits.  \n",
        "- `subsample≈0.87`: usa amostras parcialmente aleatórias, aumentando a generalização.  \n",
        "- `n_estimators=265`: número moderado de árvores, suficiente para capturar padrões.  \n",
        "- `learning_rate≈0.046`: taxa de aprendizado baixa, reduzindo risco de overfitting.  \n",
        "- `criterion=\"friedman_mse\"`: otimização padrão do scikit-learn para boosting.  \n",
        "- `max_features=1.0`: utiliza todas as variáveis em cada split.  \n",
        "- `random_state=42`: reprodutibilidade.  \n",
        "\n",
        "---\n",
        "\n",
        "### Métricas obtidas\n",
        "**Treino:**  \n",
        "- Precisão = **1.00**  \n",
        "- Recall = **1.00**  \n",
        "- F1 = **1.00**  \n",
        "\n",
        "**Validação cruzada (5 folds):**  \n",
        "- Precisão ≈ **0.89**  \n",
        "- Recall ≈ **0.72**  \n",
        "- F1 ≈ **0.80**  \n",
        "\n",
        "**Teste:**  \n",
        "- Precisão ≈ **0.88**  \n",
        "- Recall ≈ **0.74**  \n",
        "- F1 ≈ **0.80**  \n",
        "\n",
        "---\n",
        "\n",
        "### Interpretação geral\n",
        "- No **treino**, o modelo atingiu métricas perfeitas ``(overfitting claro)``.  \n",
        "- Já na **validação** e **teste**, o desempenho foi consistente (F1 ≈ 0.80), mostrando boa capacidade de generalização.  \n",
        "- O modelo apresenta **alto equilíbrio** entre precisão e recall, sendo capaz de capturar falhas com boa cobertura sem exagerar nos falsos positivos.  \n",
        "\n",
        "Conclusão: O Gradient Boosting mostrou-se **um dos modelos mais equilibrados**, combinando **alto recall** (captura a maioria dos casos positivos) com **boa precisão**, mantendo robustez em dados não vistos."
      ]
    },
    {
      "cell_type": "code",
      "execution_count": null,
      "id": "a4f958c2",
      "metadata": {
        "colab": {
          "base_uri": "https://localhost:8080/"
        },
        "id": "a4f958c2",
        "outputId": "b02c7ffd-abd0-465b-e646-c79125efcde0"
      },
      "outputs": [
        {
          "ename": "NameError",
          "evalue": "name 'g_boosting' is not defined",
          "output_type": "error",
          "traceback": [
            "\u001b[31m---------------------------------------------------------------------------\u001b[39m",
            "\u001b[31mNameError\u001b[39m                                 Traceback (most recent call last)",
            "\u001b[36mCell\u001b[39m\u001b[36m \u001b[39m\u001b[32mIn[42]\u001b[39m\u001b[32m, line 1\u001b[39m\n\u001b[32m----> \u001b[39m\u001b[32m1\u001b[39m experimento.save(name=\u001b[33m\"\u001b[39m\u001b[33mGradient Boosting Classifier\u001b[39m\u001b[33m\"\u001b[39m, model=\u001b[43mg_boosting\u001b[49m, metrics=metrics, complex_weight=\u001b[32m6\u001b[39m)\n",
            "\u001b[31mNameError\u001b[39m: name 'g_boosting' is not defined"
          ]
        }
      ],
      "source": [
        "# experimento.save(name=\"Gradient Boosting Classifier\", model=g_boosting, metrics=metrics, complex_weight=6)"
      ]
    },
    {
      "cell_type": "markdown",
      "id": "94b64f24",
      "metadata": {
        "id": "94b64f24"
      },
      "source": [
        "**Legenda:**\n",
        "\n",
        "> Esta linha de código é responsável por salvar o modelo **Gradient Boosting** treinado no gerenciador de experimentos. **Em resumo**, o comando registra o modelo Gradient Boosting, seu nome, suas métricas e seu peso de complexidade para futuras análises e comparações."
      ]
    },
    {
      "cell_type": "markdown",
      "id": "6b7288c9",
      "metadata": {
        "id": "6b7288c9"
      },
      "source": [
        "# 4.0 comparando os modelos treinados individualmente:"
      ]
    },
    {
      "cell_type": "code",
      "execution_count": null,
      "id": "bfee7d7a",
      "metadata": {
        "colab": {
          "base_uri": "https://localhost:8080/",
          "height": 341
        },
        "id": "bfee7d7a",
        "outputId": "4dc29ae5-24f4-4991-9631-8fc1e35d4104"
      },
      "outputs": [
        {
          "data": {
            "text/html": [
              "<div>\n",
              "<style scoped>\n",
              "    .dataframe tbody tr th:only-of-type {\n",
              "        vertical-align: middle;\n",
              "    }\n",
              "\n",
              "    .dataframe tbody tr th {\n",
              "        vertical-align: top;\n",
              "    }\n",
              "\n",
              "    .dataframe thead th {\n",
              "        text-align: right;\n",
              "    }\n",
              "</style>\n",
              "<table border=\"1\" class=\"dataframe\">\n",
              "  <thead>\n",
              "    <tr style=\"text-align: right;\">\n",
              "      <th></th>\n",
              "      <th>Model</th>\n",
              "      <th>Complex Weight</th>\n",
              "      <th>Train Precision</th>\n",
              "      <th>Train Recall</th>\n",
              "      <th>Train F1</th>\n",
              "      <th>Validation Precision</th>\n",
              "      <th>Validation Recall</th>\n",
              "      <th>Validation F1</th>\n",
              "      <th>Test Precision</th>\n",
              "      <th>Test Recall</th>\n",
              "      <th>Test F1</th>\n",
              "    </tr>\n",
              "  </thead>\n",
              "  <tbody>\n",
              "    <tr>\n",
              "      <th>0</th>\n",
              "      <td>Logistic Regression</td>\n",
              "      <td>1</td>\n",
              "      <td>0.58042</td>\n",
              "      <td>0.31439</td>\n",
              "      <td>0.40786</td>\n",
              "      <td>0.58042</td>\n",
              "      <td>0.31439</td>\n",
              "      <td>0.40786</td>\n",
              "      <td>0.69444</td>\n",
              "      <td>0.37879</td>\n",
              "      <td>0.49020</td>\n",
              "    </tr>\n",
              "    <tr>\n",
              "      <th>1</th>\n",
              "      <td>Support Vector Classifier</td>\n",
              "      <td>3</td>\n",
              "      <td>0.97525</td>\n",
              "      <td>0.74621</td>\n",
              "      <td>0.84549</td>\n",
              "      <td>0.97525</td>\n",
              "      <td>0.74621</td>\n",
              "      <td>0.84549</td>\n",
              "      <td>0.84091</td>\n",
              "      <td>0.56061</td>\n",
              "      <td>0.67273</td>\n",
              "    </tr>\n",
              "    <tr>\n",
              "      <th>2</th>\n",
              "      <td>Decision Tree Classifier</td>\n",
              "      <td>2</td>\n",
              "      <td>0.86585</td>\n",
              "      <td>0.80682</td>\n",
              "      <td>0.83529</td>\n",
              "      <td>0.86585</td>\n",
              "      <td>0.80682</td>\n",
              "      <td>0.83529</td>\n",
              "      <td>0.79688</td>\n",
              "      <td>0.77273</td>\n",
              "      <td>0.78462</td>\n",
              "    </tr>\n",
              "    <tr>\n",
              "      <th>3</th>\n",
              "      <td>Random Forrest Classifier</td>\n",
              "      <td>4</td>\n",
              "      <td>0.94928</td>\n",
              "      <td>0.99242</td>\n",
              "      <td>0.97037</td>\n",
              "      <td>0.94928</td>\n",
              "      <td>0.99242</td>\n",
              "      <td>0.97037</td>\n",
              "      <td>0.90000</td>\n",
              "      <td>0.81818</td>\n",
              "      <td>0.85714</td>\n",
              "    </tr>\n",
              "    <tr>\n",
              "      <th>4</th>\n",
              "      <td>Ada Boosting Classifier</td>\n",
              "      <td>5</td>\n",
              "      <td>1.00000</td>\n",
              "      <td>1.00000</td>\n",
              "      <td>1.00000</td>\n",
              "      <td>1.00000</td>\n",
              "      <td>1.00000</td>\n",
              "      <td>1.00000</td>\n",
              "      <td>0.92982</td>\n",
              "      <td>0.80303</td>\n",
              "      <td>0.86179</td>\n",
              "    </tr>\n",
              "    <tr>\n",
              "      <th>5</th>\n",
              "      <td>Gradient Boosting Classifier</td>\n",
              "      <td>6</td>\n",
              "      <td>1.00000</td>\n",
              "      <td>1.00000</td>\n",
              "      <td>1.00000</td>\n",
              "      <td>1.00000</td>\n",
              "      <td>1.00000</td>\n",
              "      <td>1.00000</td>\n",
              "      <td>0.87500</td>\n",
              "      <td>0.74242</td>\n",
              "      <td>0.80328</td>\n",
              "    </tr>\n",
              "  </tbody>\n",
              "</table>\n",
              "</div>"
            ],
            "text/plain": [
              "                          Model  Complex Weight  Train Precision  \\\n",
              "0           Logistic Regression               1          0.58042   \n",
              "1     Support Vector Classifier               3          0.97525   \n",
              "2      Decision Tree Classifier               2          0.86585   \n",
              "3     Random Forrest Classifier               4          0.94928   \n",
              "4       Ada Boosting Classifier               5          1.00000   \n",
              "5  Gradient Boosting Classifier               6          1.00000   \n",
              "\n",
              "   Train Recall  Train F1  Validation Precision  Validation Recall  \\\n",
              "0       0.31439   0.40786               0.58042            0.31439   \n",
              "1       0.74621   0.84549               0.97525            0.74621   \n",
              "2       0.80682   0.83529               0.86585            0.80682   \n",
              "3       0.99242   0.97037               0.94928            0.99242   \n",
              "4       1.00000   1.00000               1.00000            1.00000   \n",
              "5       1.00000   1.00000               1.00000            1.00000   \n",
              "\n",
              "   Validation F1  Test Precision  Test Recall  Test F1  \n",
              "0        0.40786         0.69444      0.37879  0.49020  \n",
              "1        0.84549         0.84091      0.56061  0.67273  \n",
              "2        0.83529         0.79688      0.77273  0.78462  \n",
              "3        0.97037         0.90000      0.81818  0.85714  \n",
              "4        1.00000         0.92982      0.80303  0.86179  \n",
              "5        1.00000         0.87500      0.74242  0.80328  "
            ]
          },
          "execution_count": 80,
          "metadata": {},
          "output_type": "execute_result"
        }
      ],
      "source": [
        "experimento.summary().drop([\"Model Params\"], axis=1)"
      ]
    },
    {
      "cell_type": "markdown",
      "id": "4519b9b0",
      "metadata": {
        "id": "4519b9b0"
      },
      "source": [
        "**Legenda** (Tabela de Métricas)\n",
        "\n",
        "> A tabela resultante é o placar final de desempenho para cada modelo, separada em três conjuntos de dados:\n",
        ">\n",
        "> -   **Métricas `Train`**: Desempenho do modelo nos dados que ele usou para treinar.\n",
        "> -   **Métricas `Validation`**: Desempenho em dados de validação cruzada, usados para ajustar o modelo e evitar *overfitting*.\n",
        "> -   **Métricas `Test`**: **As mais importantes**. Mostram como o modelo generaliza para dados completamente novos, que ele nunca viu antes.\n",
        ">\n",
        "> **Observação Importante**: Note que os modelos `Ada Boosting` e `Gradient Boosting` têm performance perfeita (1.00) nos dados de treino. Isso é um forte sinal de **overfitting**, onde o modelo \"decorou\" as respostas do treino, mas seu desempenho em dados de teste, embora bom, é inferior. O `Random Forest` parece ter o melhor equilíbrio entre complexidade e performance nos dados de teste (`Test F1` de 0.85714).\n",
        "\n",
        "---"
      ]
    },
    {
      "cell_type": "markdown",
      "id": "b3402821",
      "metadata": {
        "id": "b3402821"
      },
      "source": [
        "# 5.0 Enssemble votting classifier:"
      ]
    },
    {
      "cell_type": "code",
      "execution_count": null,
      "id": "f30214e2",
      "metadata": {
        "id": "f30214e2"
      },
      "outputs": [],
      "source": [
        "model_svm = experimento.records[1].get(\"Model Obj\")\n",
        "model_dtree = experimento.records[2].get(\"Model Obj\")\n",
        "model_rf = experimento.records[3].get(\"Model Obj\")\n",
        "model_adab = experimento.records[4].get(\"Model Obj\")\n",
        "model_gb = experimento.records[5].get(\"Model Obj\")"
      ]
    },
    {
      "cell_type": "markdown",
      "id": "ee7a79f7",
      "metadata": {
        "id": "ee7a79f7"
      },
      "source": [
        "**Legenda**\n",
        "\n",
        "> A ideia aqui é criar um \"supermodelo\" combinando alguns dos melhores modelos individuais. Em vez de escolher apenas um, usamos um comitê onde os modelos \"votam\" na melhor resposta.\n",
        "\n",
        "> O código abaixo recupera os objetos de modelo que foram salvos anteriormente no `experimento`. Cada linha carrega um modelo específico para uma nova variável.\n",
        "\n",
        "`model_svm = experimento.records[1].get(\"Model Obj\")`\n",
        "\n",
        "`model_dtree = experimento.records[2].get(\"Model Obj\")`\n",
        "\n",
        "`...`\n",
        "\n",
        "---"
      ]
    },
    {
      "cell_type": "markdown",
      "id": "9000819c",
      "metadata": {
        "id": "9000819c"
      },
      "source": [
        "#### 5.1 fit Voting Classifier:"
      ]
    },
    {
      "cell_type": "code",
      "execution_count": null,
      "id": "3ab246e3",
      "metadata": {
        "colab": {
          "base_uri": "https://localhost:8080/",
          "height": 69
        },
        "id": "3ab246e3",
        "outputId": "2496165e-bb3d-460f-acc1-507aee6a73d9"
      },
      "outputs": [
        {
          "data": {
            "text/plain": [
              "{'train': {'precision': 1.0, 'recall': 0.93939, 'f1': 0.96875},\n",
              " 'val': {'precision': 0.91422, 'recall': 0.67424, 'f1': 0.77444},\n",
              " 'test': {'precision': 0.92593, 'recall': 0.75758, 'f1': 0.83333}}"
            ]
          },
          "metadata": {},
          "output_type": "display_data"
        }
      ],
      "source": [
        "from sklearn.ensemble import VotingClassifier\n",
        "\n",
        "voting_soft = VotingClassifier(\n",
        "    estimators=[\n",
        "        ('svm', model_svm),\n",
        "        ('dtree', model_dtree),\n",
        "        ('rf', model_rf),\n",
        "        ('adab', model_adab),\n",
        "        ('gb', model_gb)\n",
        "    ],\n",
        "    voting='soft'\n",
        ")\n",
        "\n",
        "voting_soft.fit(x_train, y_train.values.ravel())\n",
        "\n",
        "y_train_probs = voting_soft.predict_proba(x_train)[:, 1]\n",
        "y_test_probs = voting_soft.predict_proba(x_test)[:, 1]\n",
        "\n",
        "metrics_train = precision_recall_f1(y_train, y_train_probs, threshold=0.5)\n",
        "metrics_val = cv_metrics_precision_recall_f1(voting_soft, x_train, y_train, n_splits=5, random_state=42)\n",
        "metrics_test = precision_recall_f1(y_test, y_test_probs, threshold=0.5)\n",
        "metrics = {\"train\": metrics_train, \"val\": metrics_val,\"test\": metrics_test}\n",
        "display(metrics)"
      ]
    },
    {
      "cell_type": "markdown",
      "id": "a2fba2ac",
      "metadata": {
        "id": "a2fba2ac"
      },
      "source": [
        "### Legenda: Análise do Modelo Ensemble (Soft Voting Classifier)\n",
        "\n",
        "> Este bloco descreve a criação e o desempenho de um **meta-modelo**, o `VotingClassifier`. A sua estratégia não é aprender do zero, mas sim combinar as previsões de vários modelos mais simples para tomar uma decisão final mais robusta e precisa, como um \"comitê de especialistas\".\n",
        "\n",
        "---\n",
        "\n",
        "### Configuração do Modelo\n",
        "\n",
        "> A configuração deste modelo consiste em definir quais \"especialistas\" farão parte do comitê e como a decisão final será tomada.\n",
        ">\n",
        "> -   `estimators=[...]`: Define os cinco modelos que participarão da votação:\n",
        ">     -   Support Vector Machine (`svm`)\n",
        ">     -   Decision Tree (`dtree`)\n",
        ">     -   Random Forest (`rf`)\n",
        ">     -   AdaBoost (`adab`)\n",
        ">     -   Gradient Boosting (`gb`)\n",
        ">\n",
        "> -   `voting='soft'`: **Este é o parâmetro mais importante**. Em vez de uma votação simples onde cada modelo dá um voto e a maioria vence (*hard voting*), o **soft voting** funciona de forma mais inteligente:\n",
        ">     -   Ele coleta a **probabilidade** (ou a \"confiança\") de cada modelo para cada classe.\n",
        ">     -   Em seguida, calcula a média dessas probabilidades.\n",
        ">     -   A previsão final é a classe que tiver a maior probabilidade média. Essa abordagem geralmente produz resultados superiores, pois leva em conta a confiança de cada especialista em sua decisão.\n",
        "\n",
        "---\n",
        "\n",
        "### Métricas de Desempenho\n",
        "\n",
        "> Os resultados obtidos pelo comitê de modelos foram:\n",
        ">\n",
        "> -   **Dados de Treino:**\n",
        ">     -   Precisão: **1.0**\n",
        ">     -   Recall: **~0.94**\n",
        ">     -   F1-Score: **~0.97**\n",
        ">\n",
        "> -   **Validação Cruzada (5 folds):**\n",
        ">     -   Precisão: **~0.91**\n",
        ">     -   Recall: **~0.67**\n",
        ">     -   F1-Score: **~0.77**\n",
        ">\n",
        "> -   **Dados de Teste:**\n",
        ">     -   Precisão: **~0.93**\n",
        ">     -   Recall: **~0.77**\n",
        ">     -   F1-Score: **~0.84**\n",
        "\n",
        "---\n",
        "\n",
        "### Análise e Conclusão\n",
        "\n",
        "> -   **Força na União:** O modelo combinado alcançou um **F1-Score de 0.84** nos dados de teste, um desempenho muito forte e competitivo, superando vários dos modelos individuais.\n",
        "> -   **Alta Precisão:** A **precisão de 0.93** no teste é um destaque. Isso significa que, quando o modelo prevê um resultado positivo, ele está correto em 93% das vezes. É um modelo muito confiável em suas afirmações positivas.\n",
        "> -   **Generalização Sólida:** Embora o desempenho no treino seja quase perfeito (sinal de um leve *overfitting* herdado dos modelos base), a performance em dados de teste prova que a combinação conseguiu criar um modelo generalista e robusto.\n",
        ">\n",
        "> **Em resumo**, o Soft Voting Classifier demonstrou ser uma excelente estratégia, agregando o poder preditivo de diferentes algoritmos para criar um \"supermodelo\" com alta precisão e um desempenho geral muito equilibrado em dados desconhecidos."
      ]
    },
    {
      "cell_type": "code",
      "execution_count": null,
      "id": "639bb1f7",
      "metadata": {
        "colab": {
          "base_uri": "https://localhost:8080/"
        },
        "id": "639bb1f7",
        "outputId": "f1a8f8b9-e05f-4859-b08c-d3b5ea37d878"
      },
      "outputs": [
        {
          "name": "stdout",
          "output_type": "stream",
          "text": [
            "model saved ... VotingClassifier(estimators=[('svm',\n",
            "                              SVC(C=99.90622647684818,\n",
            "                                  class_weight={0: 1, 1: 1}, probability=True,\n",
            "                                  random_state=42)),\n",
            "                             ('dtree',\n",
            "                              DecisionTreeClassifier(class_weight={0: 1, 1: 1},\n",
            "                                                     max_depth=11,\n",
            "                                                     min_impurity_decrease=0.0001,\n",
            "                                                     min_samples_leaf=5,\n",
            "                                                     random_state=42)),\n",
            "                             ('rf',\n",
            "                              RandomForestClassifier(class_weight={0: 1, 1: 7},\n",
            "                                                     criterion='entropy',\n",
            "                                                     max_depth=15,\n",
            "                                                     max_features=...\n",
            "                                                                                  min_impurity_decrease=0.0015308770816931528,\n",
            "                                                                                  min_samples_leaf=3,\n",
            "                                                                                  random_state=42),\n",
            "                                                 learning_rate=0.05309756471678731,\n",
            "                                                 n_estimators=477,\n",
            "                                                 random_state=42)),\n",
            "                             ('gb',\n",
            "                              GradientBoostingClassifier(learning_rate=0.04636051072855432,\n",
            "                                                         max_depth=17,\n",
            "                                                         max_features=1.0,\n",
            "                                                         min_impurity_decrease=0.0010266802349129212,\n",
            "                                                         min_samples_leaf=8,\n",
            "                                                         n_estimators=265,\n",
            "                                                         random_state=42,\n",
            "                                                         subsample=0.866563526312947))],\n",
            "                 voting='soft')\n"
          ]
        }
      ],
      "source": [
        "experimento.save(name=\"Soft Voting Classifier\", model=voting_soft, metrics=metrics, complex_weight=7)"
      ]
    },
    {
      "cell_type": "markdown",
      "id": "f56496c1",
      "metadata": {
        "id": "f56496c1"
      },
      "source": [
        "**Legenda:**\n",
        "\n",
        "> Esta linha de código é responsável por salvar o modelo **Soft Voting Classifier** treinado no gerenciador de experimentos. **Em resumo**, o comando registra o modelo, seu nome, suas métricas e seu peso de complexidade para futuras análises e comparações."
      ]
    },
    {
      "cell_type": "markdown",
      "id": "8cc8e14d",
      "metadata": {
        "id": "8cc8e14d"
      },
      "source": [
        "# 6.0 Resultados e Selecao Modelo FInal:"
      ]
    },
    {
      "cell_type": "code",
      "execution_count": null,
      "id": "69f376ad",
      "metadata": {
        "id": "69f376ad"
      },
      "outputs": [],
      "source": [
        "df_experimento =  experimento.summary().drop([\"Model Params\"], axis=1)"
      ]
    },
    {
      "cell_type": "code",
      "execution_count": null,
      "id": "43dabd06",
      "metadata": {
        "colab": {
          "base_uri": "https://localhost:8080/",
          "height": 373
        },
        "id": "43dabd06",
        "outputId": "2121ad37-cae5-43a1-9d00-b1cd94733e0d"
      },
      "outputs": [
        {
          "data": {
            "text/html": [
              "<div>\n",
              "<style scoped>\n",
              "    .dataframe tbody tr th:only-of-type {\n",
              "        vertical-align: middle;\n",
              "    }\n",
              "\n",
              "    .dataframe tbody tr th {\n",
              "        vertical-align: top;\n",
              "    }\n",
              "\n",
              "    .dataframe thead th {\n",
              "        text-align: right;\n",
              "    }\n",
              "</style>\n",
              "<table border=\"1\" class=\"dataframe\">\n",
              "  <thead>\n",
              "    <tr style=\"text-align: right;\">\n",
              "      <th></th>\n",
              "      <th>Model</th>\n",
              "      <th>Complex Weight</th>\n",
              "      <th>Train Precision</th>\n",
              "      <th>Train Recall</th>\n",
              "      <th>Train F1</th>\n",
              "      <th>Validation Precision</th>\n",
              "      <th>Validation Recall</th>\n",
              "      <th>Validation F1</th>\n",
              "      <th>Test Precision</th>\n",
              "      <th>Test Recall</th>\n",
              "      <th>Test F1</th>\n",
              "    </tr>\n",
              "  </thead>\n",
              "  <tbody>\n",
              "    <tr>\n",
              "      <th>0</th>\n",
              "      <td>Logistic Regression</td>\n",
              "      <td>1</td>\n",
              "      <td>0.58042</td>\n",
              "      <td>0.31439</td>\n",
              "      <td>0.40786</td>\n",
              "      <td>0.58042</td>\n",
              "      <td>0.31439</td>\n",
              "      <td>0.40786</td>\n",
              "      <td>0.69444</td>\n",
              "      <td>0.37879</td>\n",
              "      <td>0.49020</td>\n",
              "    </tr>\n",
              "    <tr>\n",
              "      <th>1</th>\n",
              "      <td>Support Vector Classifier</td>\n",
              "      <td>3</td>\n",
              "      <td>0.97525</td>\n",
              "      <td>0.74621</td>\n",
              "      <td>0.84549</td>\n",
              "      <td>0.97525</td>\n",
              "      <td>0.74621</td>\n",
              "      <td>0.84549</td>\n",
              "      <td>0.84091</td>\n",
              "      <td>0.56061</td>\n",
              "      <td>0.67273</td>\n",
              "    </tr>\n",
              "    <tr>\n",
              "      <th>2</th>\n",
              "      <td>Decision Tree Classifier</td>\n",
              "      <td>2</td>\n",
              "      <td>0.86585</td>\n",
              "      <td>0.80682</td>\n",
              "      <td>0.83529</td>\n",
              "      <td>0.86585</td>\n",
              "      <td>0.80682</td>\n",
              "      <td>0.83529</td>\n",
              "      <td>0.79688</td>\n",
              "      <td>0.77273</td>\n",
              "      <td>0.78462</td>\n",
              "    </tr>\n",
              "    <tr>\n",
              "      <th>3</th>\n",
              "      <td>Random Forrest Classifier</td>\n",
              "      <td>4</td>\n",
              "      <td>0.94928</td>\n",
              "      <td>0.99242</td>\n",
              "      <td>0.97037</td>\n",
              "      <td>0.94928</td>\n",
              "      <td>0.99242</td>\n",
              "      <td>0.97037</td>\n",
              "      <td>0.90000</td>\n",
              "      <td>0.81818</td>\n",
              "      <td>0.85714</td>\n",
              "    </tr>\n",
              "    <tr>\n",
              "      <th>4</th>\n",
              "      <td>Ada Boosting Classifier</td>\n",
              "      <td>5</td>\n",
              "      <td>1.00000</td>\n",
              "      <td>1.00000</td>\n",
              "      <td>1.00000</td>\n",
              "      <td>1.00000</td>\n",
              "      <td>1.00000</td>\n",
              "      <td>1.00000</td>\n",
              "      <td>0.92982</td>\n",
              "      <td>0.80303</td>\n",
              "      <td>0.86179</td>\n",
              "    </tr>\n",
              "    <tr>\n",
              "      <th>5</th>\n",
              "      <td>Gradient Boosting Classifier</td>\n",
              "      <td>6</td>\n",
              "      <td>1.00000</td>\n",
              "      <td>1.00000</td>\n",
              "      <td>1.00000</td>\n",
              "      <td>1.00000</td>\n",
              "      <td>1.00000</td>\n",
              "      <td>1.00000</td>\n",
              "      <td>0.87500</td>\n",
              "      <td>0.74242</td>\n",
              "      <td>0.80328</td>\n",
              "    </tr>\n",
              "    <tr>\n",
              "      <th>6</th>\n",
              "      <td>Soft Voting Classifier</td>\n",
              "      <td>7</td>\n",
              "      <td>1.00000</td>\n",
              "      <td>0.93939</td>\n",
              "      <td>0.96875</td>\n",
              "      <td>1.00000</td>\n",
              "      <td>0.93939</td>\n",
              "      <td>0.96875</td>\n",
              "      <td>0.92593</td>\n",
              "      <td>0.75758</td>\n",
              "      <td>0.83333</td>\n",
              "    </tr>\n",
              "  </tbody>\n",
              "</table>\n",
              "</div>"
            ],
            "text/plain": [
              "                          Model  Complex Weight  Train Precision  \\\n",
              "0           Logistic Regression               1          0.58042   \n",
              "1     Support Vector Classifier               3          0.97525   \n",
              "2      Decision Tree Classifier               2          0.86585   \n",
              "3     Random Forrest Classifier               4          0.94928   \n",
              "4       Ada Boosting Classifier               5          1.00000   \n",
              "5  Gradient Boosting Classifier               6          1.00000   \n",
              "6        Soft Voting Classifier               7          1.00000   \n",
              "\n",
              "   Train Recall  Train F1  Validation Precision  Validation Recall  \\\n",
              "0       0.31439   0.40786               0.58042            0.31439   \n",
              "1       0.74621   0.84549               0.97525            0.74621   \n",
              "2       0.80682   0.83529               0.86585            0.80682   \n",
              "3       0.99242   0.97037               0.94928            0.99242   \n",
              "4       1.00000   1.00000               1.00000            1.00000   \n",
              "5       1.00000   1.00000               1.00000            1.00000   \n",
              "6       0.93939   0.96875               1.00000            0.93939   \n",
              "\n",
              "   Validation F1  Test Precision  Test Recall  Test F1  \n",
              "0        0.40786         0.69444      0.37879  0.49020  \n",
              "1        0.84549         0.84091      0.56061  0.67273  \n",
              "2        0.83529         0.79688      0.77273  0.78462  \n",
              "3        0.97037         0.90000      0.81818  0.85714  \n",
              "4        1.00000         0.92982      0.80303  0.86179  \n",
              "5        1.00000         0.87500      0.74242  0.80328  \n",
              "6        0.96875         0.92593      0.75758  0.83333  "
            ]
          },
          "execution_count": 85,
          "metadata": {},
          "output_type": "execute_result"
        }
      ],
      "source": [
        "df_experimento"
      ]
    },
    {
      "cell_type": "markdown",
      "id": "4bd8026e",
      "metadata": {
        "id": "4bd8026e"
      },
      "source": [
        "> Esta tabela final consolida o desempenho de todos os modelos testados. A decisão sobre o melhor modelo não se baseia apenas na performance máxima, mas também no **custo-benefício**, que considera o **peso de complexidade** de cada um. Um modelo mais simples e com desempenho quase igual ao do melhor é, muitas vezes, a escolha mais inteligente e prática.\n",
        "\n",
        "---"
      ]
    },
    {
      "cell_type": "code",
      "execution_count": null,
      "id": "f292dcb1",
      "metadata": {
        "colab": {
          "base_uri": "https://localhost:8080/",
          "height": 546
        },
        "id": "f292dcb1",
        "outputId": "b283598b-7c26-4a1b-bd44-a3d13530d1b3"
      },
      "outputs": [
        {
          "data": {
            "image/png": "[encoded data removed]",
            "text/plain": [
              "<Figure size 1400x600 with 1 Axes>"
            ]
          },
          "metadata": {},
          "output_type": "display_data"
        }
      ],
      "source": [
        "df = df_experimento[[\"Model\", \"Train F1\", \"Validation F1\", \"Test F1\"]].copy()\n",
        "\n",
        "bar_width = 0.25\n",
        "x = np.arange(len(df['Model']))\n",
        "\n",
        "plt.figure(figsize=(14, 6))\n",
        "plt.bar(x - bar_width, df['Train F1'], width=bar_width, label='Train F1', color='#627CFF')\n",
        "plt.bar(x, df['Validation F1'], width=bar_width, label='Validation F1', color='#FF6961')\n",
        "plt.bar(x + bar_width, df['Test F1'], width=bar_width, label='Test F1', color='#00C49A')\n",
        "\n",
        "plt.xlabel('Fitted Model', fontsize=12)\n",
        "plt.ylabel('Classifier Metrics', fontsize=12)\n",
        "plt.title('Comparativo de F1-Score entre Modelos (Treino, Validação e Teste)', fontsize=16, fontweight='bold')\n",
        "plt.xticks(ticks=x, labels=df['Model'], rotation=45, ha='right')\n",
        "plt.ylim(0.3, 1.05)\n",
        "plt.grid(axis='y', linestyle='--', alpha=0.7)\n",
        "plt.legend()\n",
        "plt.tight_layout()\n",
        "\n",
        "plt.show()"
      ]
    },
    {
      "cell_type": "markdown",
      "id": "5fc1265d",
      "metadata": {
        "id": "5fc1265d"
      },
      "source": [
        "### Legenda: Resultados Finais e Seleção do Modelo\n",
        "\n",
        "\n",
        "### Análise de Custo vs. Benefício\n",
        "\n",
        "O critério de seleção será a combinação de duas métricas-chave:\n",
        "1.  **Benefício (Performance):** O **`Test F1-Score`**, que nos diz quão bem o modelo generaliza para dados novos.\n",
        "2.  **Custo (Esforço):** O **`Complex Weight`**, que representa o quão \"caro\" o modelo é em termos de treinamento, manutenção e risco de overfitting.\n",
        "\n",
        "Vamos comparar os dois melhores candidatos sob essa ótica:\n",
        "\n",
        "* **Ada Boosting Classifier:**\n",
        "    * **Benefício (Test F1):** 0.862 (O mais alto)\n",
        "    * **Custo (Complexidade):** 5 (Alto)\n",
        "* **Random Forest Classifier:**\n",
        "    * **Benefício (Test F1):** 0.857 (Quase idêntico ao primeiro)\n",
        "    * **Custo (Complexidade):** 4 (Menor que o AdaBoost)\n",
        "\n",
        "---\n",
        "\n",
        "### Veredito e Justificativa da Escolha\n",
        "\n",
        "Apesar do `Ada Boosting Classifier` ter o maior F1-Score, a diferença para o `Random Forest Classifier` é mínima (**apenas 0.005**). No entanto, o Random Forest é um modelo **notavelmente menos complexo** (peso 4 vs. 5).\n",
        "\n",
        "\n",
        "\n",
        "Essa diferença de performance não justifica o aumento na complexidade. O **Random Forest** oferece o melhor retorno sobre o investimento: ele entrega um desempenho de ponta sendo, ao mesmo tempo, mais simples, rápido e potencialmente mais estável que o AdaBoost.\n",
        "\n",
        "---\n",
        "\n",
        "### Conclusão Final\n",
        "\n",
        "O **Random Forest Classifier é selecionado como o modelo final**. Ele representa o ponto ótimo entre **alta performance preditiva** e **eficiência computacional**, tornando-se a escolha mais pragmática e robusta para a implementação deste projeto."
      ]
    },
    {
      "cell_type": "markdown",
      "id": "ce9c5f33",
      "metadata": {},
      "source": [
        "---\n",
        "\n",
        "## Exportação do Modelo Random Forest\n",
        "\n",
        "Vamos exportar o modelo **Random Forest** treinado para um arquivo `.joblib` para uso futuro."
      ]
    },
    {
      "cell_type": "code",
      "execution_count": 43,
      "id": "95da7dbe",
      "metadata": {},
      "outputs": [
        {
          "name": "stdout",
          "output_type": "stream",
          "text": [
            "Modelo: None\n",
            "Tipo: <class 'sklearn.ensemble._forest.RandomForestClassifier'>\n",
            "\n",
            "Parâmetros do modelo:\n",
            "{'bootstrap': True, 'ccp_alpha': 0.0, 'class_weight': {0: 1, 1: 7}, 'criterion': 'entropy', 'max_depth': 15, 'max_features': 0.7, 'max_leaf_nodes': None, 'max_samples': None, 'min_impurity_decrease': 0.0, 'min_samples_leaf': 3, 'min_samples_split': 3, 'min_weight_fraction_leaf': 0.0, 'monotonic_cst': None, 'n_estimators': 500, 'n_jobs': None, 'oob_score': False, 'random_state': 42, 'verbose': 0, 'warm_start': False}\n"
          ]
        }
      ],
      "source": [
        "import joblib\n",
        "\n",
        "# Recuperar o modelo Random Forest do experimento\n",
        "# O Random Forest está na posição 3 do experimento.records\n",
        "rf_model = experimento.records[3].get(\"Model Obj\")\n",
        "\n",
        "# Verificar o modelo\n",
        "print(f\"Modelo: {experimento.records[3].get('Model Name')}\")\n",
        "print(f\"Tipo: {type(rf_model)}\")\n",
        "print(f\"\\nParâmetros do modelo:\")\n",
        "print(rf_model.get_params())"
      ]
    },
    {
      "cell_type": "code",
      "execution_count": 44,
      "id": "eb4aa393",
      "metadata": {},
      "outputs": [
        {
          "name": "stdout",
          "output_type": "stream",
          "text": [
            "✅ Modelo Random Forest salvo com sucesso em 'random_forest_model.joblib'\n"
          ]
        }
      ],
      "source": [
        "# Salvar o modelo em arquivo .joblib\n",
        "joblib.dump(rf_model, 'random_forest_model.joblib')\n",
        "\n",
        "print(\"✅ Modelo Random Forest salvo com sucesso em 'random_forest_model.joblib'\")"
      ]
    },
    {
      "cell_type": "markdown",
      "id": "ce41378d",
      "metadata": {},
      "source": [
        "### Exportar modelo completo com métricas (Opcional)\n",
        "\n",
        "Se você quiser salvar o modelo junto com as métricas de desempenho e hiperparâmetros:"
      ]
    },
    {
      "cell_type": "code",
      "execution_count": 45,
      "id": "c4bc3dac",
      "metadata": {},
      "outputs": [
        {
          "name": "stdout",
          "output_type": "stream",
          "text": [
            "✅ Modelo completo com métricas salvo em 'random_forest_complete.joblib'\n"
          ]
        }
      ],
      "source": [
        "# Salvar modelo com informações adicionais\n",
        "model_info = {\n",
        "    'model': experimento.records[3].get(\"Model Obj\"),\n",
        "    'model_name': experimento.records[3].get(\"Model Name\"),\n",
        "    'metrics': {\n",
        "        'test_f1': experimento.records[3].get(\"Test F1 Score\"),\n",
        "        'test_precision': experimento.records[3].get(\"Test Precision\"),\n",
        "        'test_recall': experimento.records[3].get(\"Test Recall\"),\n",
        "        'test_accuracy': experimento.records[3].get(\"Test Accuracy\")\n",
        "    },\n",
        "    'hyperparameters': experimento.records[3].get(\"Model Params\")\n",
        "}\n",
        "\n",
        "joblib.dump(model_info, 'random_forest_complete.joblib')\n",
        "\n",
        "print(\"✅ Modelo completo com métricas salvo em 'random_forest_complete.joblib'\")"
      ]
    },
    {
      "cell_type": "markdown",
      "id": "dfd7a8e1",
      "metadata": {},
      "source": [
        "### Como carregar o modelo posteriormente\n",
        "\n",
        "Para usar o modelo salvo em outro script ou notebook:"
      ]
    },
    {
      "cell_type": "code",
      "execution_count": 46,
      "id": "814abb7f",
      "metadata": {},
      "outputs": [
        {
          "name": "stdout",
          "output_type": "stream",
          "text": [
            "Código de exemplo para carregar o modelo (comentado)\n"
          ]
        }
      ],
      "source": [
        "# Carregar apenas o modelo\n",
        "# rf_model_loaded = joblib.load('random_forest_model.joblib')\n",
        "\n",
        "# Ou carregar o modelo completo com métricas\n",
        "# model_data = joblib.load('random_forest_complete.joblib')\n",
        "# rf_model_loaded = model_data['model']\n",
        "# print(f\"Métricas: {model_data['metrics']}\")\n",
        "\n",
        "# Fazer previsões com o modelo carregado\n",
        "# predictions = rf_model_loaded.predict(X_new)\n",
        "\n",
        "print(\"Código de exemplo para carregar o modelo (comentado)\")"
      ]
    }
  ],
  "metadata": {
    "colab": {
      "provenance": [],
      "toc_visible": true
    },
    "kernelspec": {
      "display_name": ".venv (3.11.9)",
      "language": "python",
      "name": "python3"
    },
    "language_info": {
      "codemirror_mode": {
        "name": "ipython",
        "version": 3
      },
      "file_extension": ".py",
      "mimetype": "text/x-python",
      "name": "python",
      "nbconvert_exporter": "python",
      "pygments_lexer": "ipython3",
      "version": "3.11.9"
    }
  },
  "nbformat": 4,
  "nbformat_minor": 5
}
